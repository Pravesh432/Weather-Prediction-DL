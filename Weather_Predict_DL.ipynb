{
  "nbformat": 4,
  "nbformat_minor": 0,
  "metadata": {
    "colab": {
      "provenance": []
    },
    "kernelspec": {
      "name": "python3",
      "display_name": "Python 3"
    },
    "language_info": {
      "name": "python"
    }
  },
  "cells": [
    {
      "cell_type": "code",
      "execution_count": null,
      "metadata": {
        "id": "ZGTjvabqIfP_"
      },
      "outputs": [],
      "source": [
        "\n",
        "#Problem Statement :\n",
        "#This dataset contains about 10 years of daily weather observations from many locations across Australia.\n",
        "#RainTomorrow is the target variable to predict. It means -- did it rain the next day, Yes or No? \n",
        "#This column is Yes if the rain for that day was 1mm or more. \n",
        "#Predict next-day rain by training classification models on the target variable RainTomorrow."
      ]
    },
    {
      "cell_type": "code",
      "source": [
        "import numpy as np\n",
        "import pandas as pd\n",
        "import matplotlib.pyplot as plt \n",
        "import seaborn as sns\n",
        "import warnings\n",
        "warnings.filterwarnings('ignore')"
      ],
      "metadata": {
        "id": "41aJgxi-o1TT"
      },
      "execution_count": null,
      "outputs": []
    },
    {
      "cell_type": "code",
      "source": [
        "df=pd.read_csv(\"/content/weatherAUS.csv\")\n",
        "df"
      ],
      "metadata": {
        "colab": {
          "base_uri": "https://localhost:8080/",
          "height": 661
        },
        "id": "KiLq1oO_NNOb",
        "outputId": "ba957480-0581-4992-ba80-92e8eb20238c"
      },
      "execution_count": null,
      "outputs": [
        {
          "output_type": "execute_result",
          "data": {
            "text/plain": [
              "              Date Location  MinTemp  MaxTemp  Rainfall  Evaporation  \\\n",
              "0       2008-12-01   Albury     13.4     22.9       0.6          NaN   \n",
              "1       2008-12-02   Albury      7.4     25.1       0.0          NaN   \n",
              "2       2008-12-03   Albury     12.9     25.7       0.0          NaN   \n",
              "3       2008-12-04   Albury      9.2     28.0       0.0          NaN   \n",
              "4       2008-12-05   Albury     17.5     32.3       1.0          NaN   \n",
              "...            ...      ...      ...      ...       ...          ...   \n",
              "145455  2017-06-21    Uluru      2.8     23.4       0.0          NaN   \n",
              "145456  2017-06-22    Uluru      3.6     25.3       0.0          NaN   \n",
              "145457  2017-06-23    Uluru      5.4     26.9       0.0          NaN   \n",
              "145458  2017-06-24    Uluru      7.8     27.0       0.0          NaN   \n",
              "145459  2017-06-25    Uluru     14.9      NaN       0.0          NaN   \n",
              "\n",
              "        Sunshine WindGustDir  WindGustSpeed WindDir9am  ... Humidity9am  \\\n",
              "0            NaN           W           44.0          W  ...        71.0   \n",
              "1            NaN         WNW           44.0        NNW  ...        44.0   \n",
              "2            NaN         WSW           46.0          W  ...        38.0   \n",
              "3            NaN          NE           24.0         SE  ...        45.0   \n",
              "4            NaN           W           41.0        ENE  ...        82.0   \n",
              "...          ...         ...            ...        ...  ...         ...   \n",
              "145455       NaN           E           31.0         SE  ...        51.0   \n",
              "145456       NaN         NNW           22.0         SE  ...        56.0   \n",
              "145457       NaN           N           37.0         SE  ...        53.0   \n",
              "145458       NaN          SE           28.0        SSE  ...        51.0   \n",
              "145459       NaN         NaN            NaN        ESE  ...        62.0   \n",
              "\n",
              "        Humidity3pm  Pressure9am  Pressure3pm  Cloud9am  Cloud3pm  Temp9am  \\\n",
              "0              22.0       1007.7       1007.1       8.0       NaN     16.9   \n",
              "1              25.0       1010.6       1007.8       NaN       NaN     17.2   \n",
              "2              30.0       1007.6       1008.7       NaN       2.0     21.0   \n",
              "3              16.0       1017.6       1012.8       NaN       NaN     18.1   \n",
              "4              33.0       1010.8       1006.0       7.0       8.0     17.8   \n",
              "...             ...          ...          ...       ...       ...      ...   \n",
              "145455         24.0       1024.6       1020.3       NaN       NaN     10.1   \n",
              "145456         21.0       1023.5       1019.1       NaN       NaN     10.9   \n",
              "145457         24.0       1021.0       1016.8       NaN       NaN     12.5   \n",
              "145458         24.0       1019.4       1016.5       3.0       2.0     15.1   \n",
              "145459         36.0       1020.2       1017.9       8.0       8.0     15.0   \n",
              "\n",
              "        Temp3pm  RainToday  RainTomorrow  \n",
              "0          21.8         No            No  \n",
              "1          24.3         No            No  \n",
              "2          23.2         No            No  \n",
              "3          26.5         No            No  \n",
              "4          29.7         No            No  \n",
              "...         ...        ...           ...  \n",
              "145455     22.4         No            No  \n",
              "145456     24.5         No            No  \n",
              "145457     26.1         No            No  \n",
              "145458     26.0         No            No  \n",
              "145459     20.9         No           NaN  \n",
              "\n",
              "[145460 rows x 23 columns]"
            ],
            "text/html": [
              "\n",
              "  <div id=\"df-27c7f40b-b59a-4443-9a77-6b1d3f634a11\">\n",
              "    <div class=\"colab-df-container\">\n",
              "      <div>\n",
              "<style scoped>\n",
              "    .dataframe tbody tr th:only-of-type {\n",
              "        vertical-align: middle;\n",
              "    }\n",
              "\n",
              "    .dataframe tbody tr th {\n",
              "        vertical-align: top;\n",
              "    }\n",
              "\n",
              "    .dataframe thead th {\n",
              "        text-align: right;\n",
              "    }\n",
              "</style>\n",
              "<table border=\"1\" class=\"dataframe\">\n",
              "  <thead>\n",
              "    <tr style=\"text-align: right;\">\n",
              "      <th></th>\n",
              "      <th>Date</th>\n",
              "      <th>Location</th>\n",
              "      <th>MinTemp</th>\n",
              "      <th>MaxTemp</th>\n",
              "      <th>Rainfall</th>\n",
              "      <th>Evaporation</th>\n",
              "      <th>Sunshine</th>\n",
              "      <th>WindGustDir</th>\n",
              "      <th>WindGustSpeed</th>\n",
              "      <th>WindDir9am</th>\n",
              "      <th>...</th>\n",
              "      <th>Humidity9am</th>\n",
              "      <th>Humidity3pm</th>\n",
              "      <th>Pressure9am</th>\n",
              "      <th>Pressure3pm</th>\n",
              "      <th>Cloud9am</th>\n",
              "      <th>Cloud3pm</th>\n",
              "      <th>Temp9am</th>\n",
              "      <th>Temp3pm</th>\n",
              "      <th>RainToday</th>\n",
              "      <th>RainTomorrow</th>\n",
              "    </tr>\n",
              "  </thead>\n",
              "  <tbody>\n",
              "    <tr>\n",
              "      <th>0</th>\n",
              "      <td>2008-12-01</td>\n",
              "      <td>Albury</td>\n",
              "      <td>13.4</td>\n",
              "      <td>22.9</td>\n",
              "      <td>0.6</td>\n",
              "      <td>NaN</td>\n",
              "      <td>NaN</td>\n",
              "      <td>W</td>\n",
              "      <td>44.0</td>\n",
              "      <td>W</td>\n",
              "      <td>...</td>\n",
              "      <td>71.0</td>\n",
              "      <td>22.0</td>\n",
              "      <td>1007.7</td>\n",
              "      <td>1007.1</td>\n",
              "      <td>8.0</td>\n",
              "      <td>NaN</td>\n",
              "      <td>16.9</td>\n",
              "      <td>21.8</td>\n",
              "      <td>No</td>\n",
              "      <td>No</td>\n",
              "    </tr>\n",
              "    <tr>\n",
              "      <th>1</th>\n",
              "      <td>2008-12-02</td>\n",
              "      <td>Albury</td>\n",
              "      <td>7.4</td>\n",
              "      <td>25.1</td>\n",
              "      <td>0.0</td>\n",
              "      <td>NaN</td>\n",
              "      <td>NaN</td>\n",
              "      <td>WNW</td>\n",
              "      <td>44.0</td>\n",
              "      <td>NNW</td>\n",
              "      <td>...</td>\n",
              "      <td>44.0</td>\n",
              "      <td>25.0</td>\n",
              "      <td>1010.6</td>\n",
              "      <td>1007.8</td>\n",
              "      <td>NaN</td>\n",
              "      <td>NaN</td>\n",
              "      <td>17.2</td>\n",
              "      <td>24.3</td>\n",
              "      <td>No</td>\n",
              "      <td>No</td>\n",
              "    </tr>\n",
              "    <tr>\n",
              "      <th>2</th>\n",
              "      <td>2008-12-03</td>\n",
              "      <td>Albury</td>\n",
              "      <td>12.9</td>\n",
              "      <td>25.7</td>\n",
              "      <td>0.0</td>\n",
              "      <td>NaN</td>\n",
              "      <td>NaN</td>\n",
              "      <td>WSW</td>\n",
              "      <td>46.0</td>\n",
              "      <td>W</td>\n",
              "      <td>...</td>\n",
              "      <td>38.0</td>\n",
              "      <td>30.0</td>\n",
              "      <td>1007.6</td>\n",
              "      <td>1008.7</td>\n",
              "      <td>NaN</td>\n",
              "      <td>2.0</td>\n",
              "      <td>21.0</td>\n",
              "      <td>23.2</td>\n",
              "      <td>No</td>\n",
              "      <td>No</td>\n",
              "    </tr>\n",
              "    <tr>\n",
              "      <th>3</th>\n",
              "      <td>2008-12-04</td>\n",
              "      <td>Albury</td>\n",
              "      <td>9.2</td>\n",
              "      <td>28.0</td>\n",
              "      <td>0.0</td>\n",
              "      <td>NaN</td>\n",
              "      <td>NaN</td>\n",
              "      <td>NE</td>\n",
              "      <td>24.0</td>\n",
              "      <td>SE</td>\n",
              "      <td>...</td>\n",
              "      <td>45.0</td>\n",
              "      <td>16.0</td>\n",
              "      <td>1017.6</td>\n",
              "      <td>1012.8</td>\n",
              "      <td>NaN</td>\n",
              "      <td>NaN</td>\n",
              "      <td>18.1</td>\n",
              "      <td>26.5</td>\n",
              "      <td>No</td>\n",
              "      <td>No</td>\n",
              "    </tr>\n",
              "    <tr>\n",
              "      <th>4</th>\n",
              "      <td>2008-12-05</td>\n",
              "      <td>Albury</td>\n",
              "      <td>17.5</td>\n",
              "      <td>32.3</td>\n",
              "      <td>1.0</td>\n",
              "      <td>NaN</td>\n",
              "      <td>NaN</td>\n",
              "      <td>W</td>\n",
              "      <td>41.0</td>\n",
              "      <td>ENE</td>\n",
              "      <td>...</td>\n",
              "      <td>82.0</td>\n",
              "      <td>33.0</td>\n",
              "      <td>1010.8</td>\n",
              "      <td>1006.0</td>\n",
              "      <td>7.0</td>\n",
              "      <td>8.0</td>\n",
              "      <td>17.8</td>\n",
              "      <td>29.7</td>\n",
              "      <td>No</td>\n",
              "      <td>No</td>\n",
              "    </tr>\n",
              "    <tr>\n",
              "      <th>...</th>\n",
              "      <td>...</td>\n",
              "      <td>...</td>\n",
              "      <td>...</td>\n",
              "      <td>...</td>\n",
              "      <td>...</td>\n",
              "      <td>...</td>\n",
              "      <td>...</td>\n",
              "      <td>...</td>\n",
              "      <td>...</td>\n",
              "      <td>...</td>\n",
              "      <td>...</td>\n",
              "      <td>...</td>\n",
              "      <td>...</td>\n",
              "      <td>...</td>\n",
              "      <td>...</td>\n",
              "      <td>...</td>\n",
              "      <td>...</td>\n",
              "      <td>...</td>\n",
              "      <td>...</td>\n",
              "      <td>...</td>\n",
              "      <td>...</td>\n",
              "    </tr>\n",
              "    <tr>\n",
              "      <th>145455</th>\n",
              "      <td>2017-06-21</td>\n",
              "      <td>Uluru</td>\n",
              "      <td>2.8</td>\n",
              "      <td>23.4</td>\n",
              "      <td>0.0</td>\n",
              "      <td>NaN</td>\n",
              "      <td>NaN</td>\n",
              "      <td>E</td>\n",
              "      <td>31.0</td>\n",
              "      <td>SE</td>\n",
              "      <td>...</td>\n",
              "      <td>51.0</td>\n",
              "      <td>24.0</td>\n",
              "      <td>1024.6</td>\n",
              "      <td>1020.3</td>\n",
              "      <td>NaN</td>\n",
              "      <td>NaN</td>\n",
              "      <td>10.1</td>\n",
              "      <td>22.4</td>\n",
              "      <td>No</td>\n",
              "      <td>No</td>\n",
              "    </tr>\n",
              "    <tr>\n",
              "      <th>145456</th>\n",
              "      <td>2017-06-22</td>\n",
              "      <td>Uluru</td>\n",
              "      <td>3.6</td>\n",
              "      <td>25.3</td>\n",
              "      <td>0.0</td>\n",
              "      <td>NaN</td>\n",
              "      <td>NaN</td>\n",
              "      <td>NNW</td>\n",
              "      <td>22.0</td>\n",
              "      <td>SE</td>\n",
              "      <td>...</td>\n",
              "      <td>56.0</td>\n",
              "      <td>21.0</td>\n",
              "      <td>1023.5</td>\n",
              "      <td>1019.1</td>\n",
              "      <td>NaN</td>\n",
              "      <td>NaN</td>\n",
              "      <td>10.9</td>\n",
              "      <td>24.5</td>\n",
              "      <td>No</td>\n",
              "      <td>No</td>\n",
              "    </tr>\n",
              "    <tr>\n",
              "      <th>145457</th>\n",
              "      <td>2017-06-23</td>\n",
              "      <td>Uluru</td>\n",
              "      <td>5.4</td>\n",
              "      <td>26.9</td>\n",
              "      <td>0.0</td>\n",
              "      <td>NaN</td>\n",
              "      <td>NaN</td>\n",
              "      <td>N</td>\n",
              "      <td>37.0</td>\n",
              "      <td>SE</td>\n",
              "      <td>...</td>\n",
              "      <td>53.0</td>\n",
              "      <td>24.0</td>\n",
              "      <td>1021.0</td>\n",
              "      <td>1016.8</td>\n",
              "      <td>NaN</td>\n",
              "      <td>NaN</td>\n",
              "      <td>12.5</td>\n",
              "      <td>26.1</td>\n",
              "      <td>No</td>\n",
              "      <td>No</td>\n",
              "    </tr>\n",
              "    <tr>\n",
              "      <th>145458</th>\n",
              "      <td>2017-06-24</td>\n",
              "      <td>Uluru</td>\n",
              "      <td>7.8</td>\n",
              "      <td>27.0</td>\n",
              "      <td>0.0</td>\n",
              "      <td>NaN</td>\n",
              "      <td>NaN</td>\n",
              "      <td>SE</td>\n",
              "      <td>28.0</td>\n",
              "      <td>SSE</td>\n",
              "      <td>...</td>\n",
              "      <td>51.0</td>\n",
              "      <td>24.0</td>\n",
              "      <td>1019.4</td>\n",
              "      <td>1016.5</td>\n",
              "      <td>3.0</td>\n",
              "      <td>2.0</td>\n",
              "      <td>15.1</td>\n",
              "      <td>26.0</td>\n",
              "      <td>No</td>\n",
              "      <td>No</td>\n",
              "    </tr>\n",
              "    <tr>\n",
              "      <th>145459</th>\n",
              "      <td>2017-06-25</td>\n",
              "      <td>Uluru</td>\n",
              "      <td>14.9</td>\n",
              "      <td>NaN</td>\n",
              "      <td>0.0</td>\n",
              "      <td>NaN</td>\n",
              "      <td>NaN</td>\n",
              "      <td>NaN</td>\n",
              "      <td>NaN</td>\n",
              "      <td>ESE</td>\n",
              "      <td>...</td>\n",
              "      <td>62.0</td>\n",
              "      <td>36.0</td>\n",
              "      <td>1020.2</td>\n",
              "      <td>1017.9</td>\n",
              "      <td>8.0</td>\n",
              "      <td>8.0</td>\n",
              "      <td>15.0</td>\n",
              "      <td>20.9</td>\n",
              "      <td>No</td>\n",
              "      <td>NaN</td>\n",
              "    </tr>\n",
              "  </tbody>\n",
              "</table>\n",
              "<p>145460 rows × 23 columns</p>\n",
              "</div>\n",
              "      <button class=\"colab-df-convert\" onclick=\"convertToInteractive('df-27c7f40b-b59a-4443-9a77-6b1d3f634a11')\"\n",
              "              title=\"Convert this dataframe to an interactive table.\"\n",
              "              style=\"display:none;\">\n",
              "        \n",
              "  <svg xmlns=\"http://www.w3.org/2000/svg\" height=\"24px\"viewBox=\"0 0 24 24\"\n",
              "       width=\"24px\">\n",
              "    <path d=\"M0 0h24v24H0V0z\" fill=\"none\"/>\n",
              "    <path d=\"M18.56 5.44l.94 2.06.94-2.06 2.06-.94-2.06-.94-.94-2.06-.94 2.06-2.06.94zm-11 1L8.5 8.5l.94-2.06 2.06-.94-2.06-.94L8.5 2.5l-.94 2.06-2.06.94zm10 10l.94 2.06.94-2.06 2.06-.94-2.06-.94-.94-2.06-.94 2.06-2.06.94z\"/><path d=\"M17.41 7.96l-1.37-1.37c-.4-.4-.92-.59-1.43-.59-.52 0-1.04.2-1.43.59L10.3 9.45l-7.72 7.72c-.78.78-.78 2.05 0 2.83L4 21.41c.39.39.9.59 1.41.59.51 0 1.02-.2 1.41-.59l7.78-7.78 2.81-2.81c.8-.78.8-2.07 0-2.86zM5.41 20L4 18.59l7.72-7.72 1.47 1.35L5.41 20z\"/>\n",
              "  </svg>\n",
              "      </button>\n",
              "      \n",
              "  <style>\n",
              "    .colab-df-container {\n",
              "      display:flex;\n",
              "      flex-wrap:wrap;\n",
              "      gap: 12px;\n",
              "    }\n",
              "\n",
              "    .colab-df-convert {\n",
              "      background-color: #E8F0FE;\n",
              "      border: none;\n",
              "      border-radius: 50%;\n",
              "      cursor: pointer;\n",
              "      display: none;\n",
              "      fill: #1967D2;\n",
              "      height: 32px;\n",
              "      padding: 0 0 0 0;\n",
              "      width: 32px;\n",
              "    }\n",
              "\n",
              "    .colab-df-convert:hover {\n",
              "      background-color: #E2EBFA;\n",
              "      box-shadow: 0px 1px 2px rgba(60, 64, 67, 0.3), 0px 1px 3px 1px rgba(60, 64, 67, 0.15);\n",
              "      fill: #174EA6;\n",
              "    }\n",
              "\n",
              "    [theme=dark] .colab-df-convert {\n",
              "      background-color: #3B4455;\n",
              "      fill: #D2E3FC;\n",
              "    }\n",
              "\n",
              "    [theme=dark] .colab-df-convert:hover {\n",
              "      background-color: #434B5C;\n",
              "      box-shadow: 0px 1px 3px 1px rgba(0, 0, 0, 0.15);\n",
              "      filter: drop-shadow(0px 1px 2px rgba(0, 0, 0, 0.3));\n",
              "      fill: #FFFFFF;\n",
              "    }\n",
              "  </style>\n",
              "\n",
              "      <script>\n",
              "        const buttonEl =\n",
              "          document.querySelector('#df-27c7f40b-b59a-4443-9a77-6b1d3f634a11 button.colab-df-convert');\n",
              "        buttonEl.style.display =\n",
              "          google.colab.kernel.accessAllowed ? 'block' : 'none';\n",
              "\n",
              "        async function convertToInteractive(key) {\n",
              "          const element = document.querySelector('#df-27c7f40b-b59a-4443-9a77-6b1d3f634a11');\n",
              "          const dataTable =\n",
              "            await google.colab.kernel.invokeFunction('convertToInteractive',\n",
              "                                                     [key], {});\n",
              "          if (!dataTable) return;\n",
              "\n",
              "          const docLinkHtml = 'Like what you see? Visit the ' +\n",
              "            '<a target=\"_blank\" href=https://colab.research.google.com/notebooks/data_table.ipynb>data table notebook</a>'\n",
              "            + ' to learn more about interactive tables.';\n",
              "          element.innerHTML = '';\n",
              "          dataTable['output_type'] = 'display_data';\n",
              "          await google.colab.output.renderOutput(dataTable, element);\n",
              "          const docLink = document.createElement('div');\n",
              "          docLink.innerHTML = docLinkHtml;\n",
              "          element.appendChild(docLink);\n",
              "        }\n",
              "      </script>\n",
              "    </div>\n",
              "  </div>\n",
              "  "
            ]
          },
          "metadata": {},
          "execution_count": 2
        }
      ]
    },
    {
      "cell_type": "code",
      "source": [
        "df.head()  #to show top 5"
      ],
      "metadata": {
        "colab": {
          "base_uri": "https://localhost:8080/",
          "height": 386
        },
        "id": "YHaaUlqoNUad",
        "outputId": "a8fe88b2-af2a-4600-ae8e-db1b5466b901"
      },
      "execution_count": null,
      "outputs": [
        {
          "output_type": "execute_result",
          "data": {
            "text/plain": [
              "         Date Location  MinTemp  MaxTemp  Rainfall  Evaporation  Sunshine  \\\n",
              "0  2008-12-01   Albury     13.4     22.9       0.6          NaN       NaN   \n",
              "1  2008-12-02   Albury      7.4     25.1       0.0          NaN       NaN   \n",
              "2  2008-12-03   Albury     12.9     25.7       0.0          NaN       NaN   \n",
              "3  2008-12-04   Albury      9.2     28.0       0.0          NaN       NaN   \n",
              "4  2008-12-05   Albury     17.5     32.3       1.0          NaN       NaN   \n",
              "\n",
              "  WindGustDir  WindGustSpeed WindDir9am  ... Humidity9am  Humidity3pm  \\\n",
              "0           W           44.0          W  ...        71.0         22.0   \n",
              "1         WNW           44.0        NNW  ...        44.0         25.0   \n",
              "2         WSW           46.0          W  ...        38.0         30.0   \n",
              "3          NE           24.0         SE  ...        45.0         16.0   \n",
              "4           W           41.0        ENE  ...        82.0         33.0   \n",
              "\n",
              "   Pressure9am  Pressure3pm  Cloud9am  Cloud3pm  Temp9am  Temp3pm  RainToday  \\\n",
              "0       1007.7       1007.1       8.0       NaN     16.9     21.8         No   \n",
              "1       1010.6       1007.8       NaN       NaN     17.2     24.3         No   \n",
              "2       1007.6       1008.7       NaN       2.0     21.0     23.2         No   \n",
              "3       1017.6       1012.8       NaN       NaN     18.1     26.5         No   \n",
              "4       1010.8       1006.0       7.0       8.0     17.8     29.7         No   \n",
              "\n",
              "   RainTomorrow  \n",
              "0            No  \n",
              "1            No  \n",
              "2            No  \n",
              "3            No  \n",
              "4            No  \n",
              "\n",
              "[5 rows x 23 columns]"
            ],
            "text/html": [
              "\n",
              "  <div id=\"df-0d3edaff-6e89-44b8-b248-6d687bf55911\">\n",
              "    <div class=\"colab-df-container\">\n",
              "      <div>\n",
              "<style scoped>\n",
              "    .dataframe tbody tr th:only-of-type {\n",
              "        vertical-align: middle;\n",
              "    }\n",
              "\n",
              "    .dataframe tbody tr th {\n",
              "        vertical-align: top;\n",
              "    }\n",
              "\n",
              "    .dataframe thead th {\n",
              "        text-align: right;\n",
              "    }\n",
              "</style>\n",
              "<table border=\"1\" class=\"dataframe\">\n",
              "  <thead>\n",
              "    <tr style=\"text-align: right;\">\n",
              "      <th></th>\n",
              "      <th>Date</th>\n",
              "      <th>Location</th>\n",
              "      <th>MinTemp</th>\n",
              "      <th>MaxTemp</th>\n",
              "      <th>Rainfall</th>\n",
              "      <th>Evaporation</th>\n",
              "      <th>Sunshine</th>\n",
              "      <th>WindGustDir</th>\n",
              "      <th>WindGustSpeed</th>\n",
              "      <th>WindDir9am</th>\n",
              "      <th>...</th>\n",
              "      <th>Humidity9am</th>\n",
              "      <th>Humidity3pm</th>\n",
              "      <th>Pressure9am</th>\n",
              "      <th>Pressure3pm</th>\n",
              "      <th>Cloud9am</th>\n",
              "      <th>Cloud3pm</th>\n",
              "      <th>Temp9am</th>\n",
              "      <th>Temp3pm</th>\n",
              "      <th>RainToday</th>\n",
              "      <th>RainTomorrow</th>\n",
              "    </tr>\n",
              "  </thead>\n",
              "  <tbody>\n",
              "    <tr>\n",
              "      <th>0</th>\n",
              "      <td>2008-12-01</td>\n",
              "      <td>Albury</td>\n",
              "      <td>13.4</td>\n",
              "      <td>22.9</td>\n",
              "      <td>0.6</td>\n",
              "      <td>NaN</td>\n",
              "      <td>NaN</td>\n",
              "      <td>W</td>\n",
              "      <td>44.0</td>\n",
              "      <td>W</td>\n",
              "      <td>...</td>\n",
              "      <td>71.0</td>\n",
              "      <td>22.0</td>\n",
              "      <td>1007.7</td>\n",
              "      <td>1007.1</td>\n",
              "      <td>8.0</td>\n",
              "      <td>NaN</td>\n",
              "      <td>16.9</td>\n",
              "      <td>21.8</td>\n",
              "      <td>No</td>\n",
              "      <td>No</td>\n",
              "    </tr>\n",
              "    <tr>\n",
              "      <th>1</th>\n",
              "      <td>2008-12-02</td>\n",
              "      <td>Albury</td>\n",
              "      <td>7.4</td>\n",
              "      <td>25.1</td>\n",
              "      <td>0.0</td>\n",
              "      <td>NaN</td>\n",
              "      <td>NaN</td>\n",
              "      <td>WNW</td>\n",
              "      <td>44.0</td>\n",
              "      <td>NNW</td>\n",
              "      <td>...</td>\n",
              "      <td>44.0</td>\n",
              "      <td>25.0</td>\n",
              "      <td>1010.6</td>\n",
              "      <td>1007.8</td>\n",
              "      <td>NaN</td>\n",
              "      <td>NaN</td>\n",
              "      <td>17.2</td>\n",
              "      <td>24.3</td>\n",
              "      <td>No</td>\n",
              "      <td>No</td>\n",
              "    </tr>\n",
              "    <tr>\n",
              "      <th>2</th>\n",
              "      <td>2008-12-03</td>\n",
              "      <td>Albury</td>\n",
              "      <td>12.9</td>\n",
              "      <td>25.7</td>\n",
              "      <td>0.0</td>\n",
              "      <td>NaN</td>\n",
              "      <td>NaN</td>\n",
              "      <td>WSW</td>\n",
              "      <td>46.0</td>\n",
              "      <td>W</td>\n",
              "      <td>...</td>\n",
              "      <td>38.0</td>\n",
              "      <td>30.0</td>\n",
              "      <td>1007.6</td>\n",
              "      <td>1008.7</td>\n",
              "      <td>NaN</td>\n",
              "      <td>2.0</td>\n",
              "      <td>21.0</td>\n",
              "      <td>23.2</td>\n",
              "      <td>No</td>\n",
              "      <td>No</td>\n",
              "    </tr>\n",
              "    <tr>\n",
              "      <th>3</th>\n",
              "      <td>2008-12-04</td>\n",
              "      <td>Albury</td>\n",
              "      <td>9.2</td>\n",
              "      <td>28.0</td>\n",
              "      <td>0.0</td>\n",
              "      <td>NaN</td>\n",
              "      <td>NaN</td>\n",
              "      <td>NE</td>\n",
              "      <td>24.0</td>\n",
              "      <td>SE</td>\n",
              "      <td>...</td>\n",
              "      <td>45.0</td>\n",
              "      <td>16.0</td>\n",
              "      <td>1017.6</td>\n",
              "      <td>1012.8</td>\n",
              "      <td>NaN</td>\n",
              "      <td>NaN</td>\n",
              "      <td>18.1</td>\n",
              "      <td>26.5</td>\n",
              "      <td>No</td>\n",
              "      <td>No</td>\n",
              "    </tr>\n",
              "    <tr>\n",
              "      <th>4</th>\n",
              "      <td>2008-12-05</td>\n",
              "      <td>Albury</td>\n",
              "      <td>17.5</td>\n",
              "      <td>32.3</td>\n",
              "      <td>1.0</td>\n",
              "      <td>NaN</td>\n",
              "      <td>NaN</td>\n",
              "      <td>W</td>\n",
              "      <td>41.0</td>\n",
              "      <td>ENE</td>\n",
              "      <td>...</td>\n",
              "      <td>82.0</td>\n",
              "      <td>33.0</td>\n",
              "      <td>1010.8</td>\n",
              "      <td>1006.0</td>\n",
              "      <td>7.0</td>\n",
              "      <td>8.0</td>\n",
              "      <td>17.8</td>\n",
              "      <td>29.7</td>\n",
              "      <td>No</td>\n",
              "      <td>No</td>\n",
              "    </tr>\n",
              "  </tbody>\n",
              "</table>\n",
              "<p>5 rows × 23 columns</p>\n",
              "</div>\n",
              "      <button class=\"colab-df-convert\" onclick=\"convertToInteractive('df-0d3edaff-6e89-44b8-b248-6d687bf55911')\"\n",
              "              title=\"Convert this dataframe to an interactive table.\"\n",
              "              style=\"display:none;\">\n",
              "        \n",
              "  <svg xmlns=\"http://www.w3.org/2000/svg\" height=\"24px\"viewBox=\"0 0 24 24\"\n",
              "       width=\"24px\">\n",
              "    <path d=\"M0 0h24v24H0V0z\" fill=\"none\"/>\n",
              "    <path d=\"M18.56 5.44l.94 2.06.94-2.06 2.06-.94-2.06-.94-.94-2.06-.94 2.06-2.06.94zm-11 1L8.5 8.5l.94-2.06 2.06-.94-2.06-.94L8.5 2.5l-.94 2.06-2.06.94zm10 10l.94 2.06.94-2.06 2.06-.94-2.06-.94-.94-2.06-.94 2.06-2.06.94z\"/><path d=\"M17.41 7.96l-1.37-1.37c-.4-.4-.92-.59-1.43-.59-.52 0-1.04.2-1.43.59L10.3 9.45l-7.72 7.72c-.78.78-.78 2.05 0 2.83L4 21.41c.39.39.9.59 1.41.59.51 0 1.02-.2 1.41-.59l7.78-7.78 2.81-2.81c.8-.78.8-2.07 0-2.86zM5.41 20L4 18.59l7.72-7.72 1.47 1.35L5.41 20z\"/>\n",
              "  </svg>\n",
              "      </button>\n",
              "      \n",
              "  <style>\n",
              "    .colab-df-container {\n",
              "      display:flex;\n",
              "      flex-wrap:wrap;\n",
              "      gap: 12px;\n",
              "    }\n",
              "\n",
              "    .colab-df-convert {\n",
              "      background-color: #E8F0FE;\n",
              "      border: none;\n",
              "      border-radius: 50%;\n",
              "      cursor: pointer;\n",
              "      display: none;\n",
              "      fill: #1967D2;\n",
              "      height: 32px;\n",
              "      padding: 0 0 0 0;\n",
              "      width: 32px;\n",
              "    }\n",
              "\n",
              "    .colab-df-convert:hover {\n",
              "      background-color: #E2EBFA;\n",
              "      box-shadow: 0px 1px 2px rgba(60, 64, 67, 0.3), 0px 1px 3px 1px rgba(60, 64, 67, 0.15);\n",
              "      fill: #174EA6;\n",
              "    }\n",
              "\n",
              "    [theme=dark] .colab-df-convert {\n",
              "      background-color: #3B4455;\n",
              "      fill: #D2E3FC;\n",
              "    }\n",
              "\n",
              "    [theme=dark] .colab-df-convert:hover {\n",
              "      background-color: #434B5C;\n",
              "      box-shadow: 0px 1px 3px 1px rgba(0, 0, 0, 0.15);\n",
              "      filter: drop-shadow(0px 1px 2px rgba(0, 0, 0, 0.3));\n",
              "      fill: #FFFFFF;\n",
              "    }\n",
              "  </style>\n",
              "\n",
              "      <script>\n",
              "        const buttonEl =\n",
              "          document.querySelector('#df-0d3edaff-6e89-44b8-b248-6d687bf55911 button.colab-df-convert');\n",
              "        buttonEl.style.display =\n",
              "          google.colab.kernel.accessAllowed ? 'block' : 'none';\n",
              "\n",
              "        async function convertToInteractive(key) {\n",
              "          const element = document.querySelector('#df-0d3edaff-6e89-44b8-b248-6d687bf55911');\n",
              "          const dataTable =\n",
              "            await google.colab.kernel.invokeFunction('convertToInteractive',\n",
              "                                                     [key], {});\n",
              "          if (!dataTable) return;\n",
              "\n",
              "          const docLinkHtml = 'Like what you see? Visit the ' +\n",
              "            '<a target=\"_blank\" href=https://colab.research.google.com/notebooks/data_table.ipynb>data table notebook</a>'\n",
              "            + ' to learn more about interactive tables.';\n",
              "          element.innerHTML = '';\n",
              "          dataTable['output_type'] = 'display_data';\n",
              "          await google.colab.output.renderOutput(dataTable, element);\n",
              "          const docLink = document.createElement('div');\n",
              "          docLink.innerHTML = docLinkHtml;\n",
              "          element.appendChild(docLink);\n",
              "        }\n",
              "      </script>\n",
              "    </div>\n",
              "  </div>\n",
              "  "
            ]
          },
          "metadata": {},
          "execution_count": 3
        }
      ]
    },
    {
      "cell_type": "code",
      "source": [
        "df.shape   #how many rows and columns"
      ],
      "metadata": {
        "colab": {
          "base_uri": "https://localhost:8080/"
        },
        "id": "bsgJXL5SNaSa",
        "outputId": "c73b9b69-8a7d-4a7e-ab23-bad1c260651a"
      },
      "execution_count": null,
      "outputs": [
        {
          "output_type": "execute_result",
          "data": {
            "text/plain": [
              "(145460, 23)"
            ]
          },
          "metadata": {},
          "execution_count": 4
        }
      ]
    },
    {
      "cell_type": "code",
      "source": [
        "#to chcke null values\n",
        "df.isnull().sum()\n"
      ],
      "metadata": {
        "colab": {
          "base_uri": "https://localhost:8080/"
        },
        "id": "kx5Vr8erNftQ",
        "outputId": "fcb8d0c4-fdf2-453c-b4c0-1feb0c6186c5"
      },
      "execution_count": null,
      "outputs": [
        {
          "output_type": "execute_result",
          "data": {
            "text/plain": [
              "Date                 0\n",
              "Location             0\n",
              "MinTemp           1485\n",
              "MaxTemp           1261\n",
              "Rainfall          3261\n",
              "Evaporation      62790\n",
              "Sunshine         69835\n",
              "WindGustDir      10326\n",
              "WindGustSpeed    10263\n",
              "WindDir9am       10566\n",
              "WindDir3pm        4228\n",
              "WindSpeed9am      1767\n",
              "WindSpeed3pm      3062\n",
              "Humidity9am       2654\n",
              "Humidity3pm       4507\n",
              "Pressure9am      15065\n",
              "Pressure3pm      15028\n",
              "Cloud9am         55888\n",
              "Cloud3pm         59358\n",
              "Temp9am           1767\n",
              "Temp3pm           3609\n",
              "RainToday         3261\n",
              "RainTomorrow      3267\n",
              "dtype: int64"
            ]
          },
          "metadata": {},
          "execution_count": 5
        }
      ]
    },
    {
      "cell_type": "code",
      "source": [
        "sns.heatmap(df.isnull())\n",
        "plt.show()"
      ],
      "metadata": {
        "colab": {
          "base_uri": "https://localhost:8080/",
          "height": 340
        },
        "id": "W4tGw07zNpw5",
        "outputId": "da83fc03-985c-4c26-91dc-367342940c12"
      },
      "execution_count": null,
      "outputs": [
        {
          "output_type": "display_data",
          "data": {
            "text/plain": [
              "<Figure size 432x288 with 2 Axes>"
            ],
            "image/png": "[encoded data removed]"
          },
          "metadata": {
            "needs_background": "light"
          }
        }
      ]
    },
    {
      "cell_type": "code",
      "source": [
        "#now to chcek the data types\n",
        "df.dtypes"
      ],
      "metadata": {
        "colab": {
          "base_uri": "https://localhost:8080/"
        },
        "id": "4QTbsbFdNzPw",
        "outputId": "630756f8-021b-40c7-a59a-9f9a1498e275"
      },
      "execution_count": null,
      "outputs": [
        {
          "output_type": "execute_result",
          "data": {
            "text/plain": [
              "Date              object\n",
              "Location          object\n",
              "MinTemp          float64\n",
              "MaxTemp          float64\n",
              "Rainfall         float64\n",
              "Evaporation      float64\n",
              "Sunshine         float64\n",
              "WindGustDir       object\n",
              "WindGustSpeed    float64\n",
              "WindDir9am        object\n",
              "WindDir3pm        object\n",
              "WindSpeed9am     float64\n",
              "WindSpeed3pm     float64\n",
              "Humidity9am      float64\n",
              "Humidity3pm      float64\n",
              "Pressure9am      float64\n",
              "Pressure3pm      float64\n",
              "Cloud9am         float64\n",
              "Cloud3pm         float64\n",
              "Temp9am          float64\n",
              "Temp3pm          float64\n",
              "RainToday         object\n",
              "RainTomorrow      object\n",
              "dtype: object"
            ]
          },
          "metadata": {},
          "execution_count": 7
        }
      ]
    },
    {
      "cell_type": "code",
      "source": [
        "#first swork on categorical means object type of columns\n",
        "s=(df.dtypes=='object')  #give data types\n",
        "df_cat=list(s[s].index)   #to convert in list\n",
        "print(\"categrical columns\")\n",
        "print(df_cat)"
      ],
      "metadata": {
        "colab": {
          "base_uri": "https://localhost:8080/"
        },
        "id": "_RFbbt2zOxbA",
        "outputId": "b6ce117e-a2a2-46b1-a823-4f28328e87be"
      },
      "execution_count": null,
      "outputs": [
        {
          "output_type": "stream",
          "name": "stdout",
          "text": [
            "categrical columns\n",
            "['Date', 'Location', 'WindGustDir', 'WindDir9am', 'WindDir3pm', 'RainToday', 'RainTomorrow']\n"
          ]
        }
      ]
    },
    {
      "cell_type": "code",
      "source": [
        "#now we checkl the null values in categorical columns\n",
        "for i in df_cat:\n",
        "  print(i,df[i].isnull().sum())  #because it is list we cannot write df_cat.isnull().sum() we need to use loop"
      ],
      "metadata": {
        "colab": {
          "base_uri": "https://localhost:8080/"
        },
        "id": "PE-ggRsIPdHe",
        "outputId": "5bc3b0ae-8e69-4a55-dab1-1b1166562eb4"
      },
      "execution_count": null,
      "outputs": [
        {
          "output_type": "stream",
          "name": "stdout",
          "text": [
            "Date 0\n",
            "Location 0\n",
            "WindGustDir 10326\n",
            "WindDir9am 10566\n",
            "WindDir3pm 4228\n",
            "RainToday 3261\n",
            "RainTomorrow 3267\n"
          ]
        }
      ]
    },
    {
      "cell_type": "code",
      "source": [
        "#now we will fill this null values with mode because object null values are fullfill with mode\n",
        "for i in df_cat:\n",
        "  df[i].fillna(df[i].mode()[0],inplace=True)"
      ],
      "metadata": {
        "id": "M4m6Y-XiPuQ1"
      },
      "execution_count": null,
      "outputs": []
    },
    {
      "cell_type": "code",
      "source": [
        "df.isnull().sum()"
      ],
      "metadata": {
        "colab": {
          "base_uri": "https://localhost:8080/"
        },
        "id": "oRw_Ez2sQ3Bv",
        "outputId": "db6220b7-16ae-4c04-d22f-7a19e54704b1"
      },
      "execution_count": null,
      "outputs": [
        {
          "output_type": "execute_result",
          "data": {
            "text/plain": [
              "Date                 0\n",
              "Location             0\n",
              "MinTemp           1485\n",
              "MaxTemp           1261\n",
              "Rainfall          3261\n",
              "Evaporation      62790\n",
              "Sunshine         69835\n",
              "WindGustDir          0\n",
              "WindGustSpeed    10263\n",
              "WindDir9am           0\n",
              "WindDir3pm           0\n",
              "WindSpeed9am      1767\n",
              "WindSpeed3pm      3062\n",
              "Humidity9am       2654\n",
              "Humidity3pm       4507\n",
              "Pressure9am      15065\n",
              "Pressure3pm      15028\n",
              "Cloud9am         55888\n",
              "Cloud3pm         59358\n",
              "Temp9am           1767\n",
              "Temp3pm           3609\n",
              "RainToday            0\n",
              "RainTomorrow         0\n",
              "dtype: int64"
            ]
          },
          "metadata": {},
          "execution_count": 11
        }
      ]
    },
    {
      "cell_type": "code",
      "source": [
        "#now we will do for numerical columns\n",
        "t=(df.dtypes=='float64')\n",
        "df_num=list(t[t].index)\n",
        "print(\"Numerical type of columns\")\n",
        "print(df_num)"
      ],
      "metadata": {
        "colab": {
          "base_uri": "https://localhost:8080/"
        },
        "id": "sPDYnI_iRBgF",
        "outputId": "59afdd4e-8ea5-47bd-9280-e7f73baf1913"
      },
      "execution_count": null,
      "outputs": [
        {
          "output_type": "stream",
          "name": "stdout",
          "text": [
            "Numerical type of columns\n",
            "['MinTemp', 'MaxTemp', 'Rainfall', 'Evaporation', 'Sunshine', 'WindGustSpeed', 'WindSpeed9am', 'WindSpeed3pm', 'Humidity9am', 'Humidity3pm', 'Pressure9am', 'Pressure3pm', 'Cloud9am', 'Cloud3pm', 'Temp9am', 'Temp3pm']\n"
          ]
        }
      ]
    },
    {
      "cell_type": "code",
      "source": [
        "#To check null values()\n",
        "for i in df_num:\n",
        "  print(i,df[i].isnull().sum())"
      ],
      "metadata": {
        "colab": {
          "base_uri": "https://localhost:8080/"
        },
        "id": "H3C0TztVRpMH",
        "outputId": "200460ae-4919-4fa7-8a02-7eac06d9ca97"
      },
      "execution_count": null,
      "outputs": [
        {
          "output_type": "stream",
          "name": "stdout",
          "text": [
            "MinTemp 1485\n",
            "MaxTemp 1261\n",
            "Rainfall 3261\n",
            "Evaporation 62790\n",
            "Sunshine 69835\n",
            "WindGustSpeed 10263\n",
            "WindSpeed9am 1767\n",
            "WindSpeed3pm 3062\n",
            "Humidity9am 2654\n",
            "Humidity3pm 4507\n",
            "Pressure9am 15065\n",
            "Pressure3pm 15028\n",
            "Cloud9am 55888\n",
            "Cloud3pm 59358\n",
            "Temp9am 1767\n",
            "Temp3pm 3609\n"
          ]
        }
      ]
    },
    {
      "cell_type": "code",
      "source": [
        "#fill null values with median\n",
        "for i in df_num:\n",
        "  df[i].fillna(df[i].median(),inplace=True)"
      ],
      "metadata": {
        "id": "uITknHIKR5Sh"
      },
      "execution_count": null,
      "outputs": []
    },
    {
      "cell_type": "code",
      "source": [
        "#again to chck he null values\n",
        "for i in df_num:\n",
        "  print(i,df[i].isnull().sum())"
      ],
      "metadata": {
        "colab": {
          "base_uri": "https://localhost:8080/"
        },
        "id": "DLI1jatbSQ72",
        "outputId": "09b74fbc-614f-429f-cedb-36bd4a9dbdc0"
      },
      "execution_count": null,
      "outputs": [
        {
          "output_type": "stream",
          "name": "stdout",
          "text": [
            "MinTemp 0\n",
            "MaxTemp 0\n",
            "Rainfall 0\n",
            "Evaporation 0\n",
            "Sunshine 0\n",
            "WindGustSpeed 0\n",
            "WindSpeed9am 0\n",
            "WindSpeed3pm 0\n",
            "Humidity9am 0\n",
            "Humidity3pm 0\n",
            "Pressure9am 0\n",
            "Pressure3pm 0\n",
            "Cloud9am 0\n",
            "Cloud3pm 0\n",
            "Temp9am 0\n",
            "Temp3pm 0\n"
          ]
        }
      ]
    },
    {
      "cell_type": "code",
      "source": [
        "df.isnull().sum()"
      ],
      "metadata": {
        "colab": {
          "base_uri": "https://localhost:8080/"
        },
        "id": "5yPnGcKQScsf",
        "outputId": "7cd68383-f01c-4752-a509-aa52e2e88e3e"
      },
      "execution_count": null,
      "outputs": [
        {
          "output_type": "execute_result",
          "data": {
            "text/plain": [
              "Date             0\n",
              "Location         0\n",
              "MinTemp          0\n",
              "MaxTemp          0\n",
              "Rainfall         0\n",
              "Evaporation      0\n",
              "Sunshine         0\n",
              "WindGustDir      0\n",
              "WindGustSpeed    0\n",
              "WindDir9am       0\n",
              "WindDir3pm       0\n",
              "WindSpeed9am     0\n",
              "WindSpeed3pm     0\n",
              "Humidity9am      0\n",
              "Humidity3pm      0\n",
              "Pressure9am      0\n",
              "Pressure3pm      0\n",
              "Cloud9am         0\n",
              "Cloud3pm         0\n",
              "Temp9am          0\n",
              "Temp3pm          0\n",
              "RainToday        0\n",
              "RainTomorrow     0\n",
              "dtype: int64"
            ]
          },
          "metadata": {},
          "execution_count": 16
        }
      ]
    },
    {
      "cell_type": "code",
      "source": [
        "sns.heatmap(df.isnull())  #now there is no null values\n",
        "plt.show()"
      ],
      "metadata": {
        "colab": {
          "base_uri": "https://localhost:8080/",
          "height": 340
        },
        "id": "7BqKX0NmSiLP",
        "outputId": "d6eaac46-56cf-459d-db3b-8fd37059cd60"
      },
      "execution_count": null,
      "outputs": [
        {
          "output_type": "display_data",
          "data": {
            "text/plain": [
              "<Figure size 432x288 with 2 Axes>"
            ],
            "image/png": "[encoded data removed]"
          },
          "metadata": {
            "needs_background": "light"
          }
        }
      ]
    },
    {
      "cell_type": "code",
      "source": [
        "#now we check the data typpes\n",
        "df.dtypes"
      ],
      "metadata": {
        "colab": {
          "base_uri": "https://localhost:8080/"
        },
        "id": "ZclWxX_ISn0i",
        "outputId": "60fba413-b6fb-482d-d505-db1875526021"
      },
      "execution_count": null,
      "outputs": [
        {
          "output_type": "execute_result",
          "data": {
            "text/plain": [
              "Date              object\n",
              "Location          object\n",
              "MinTemp          float64\n",
              "MaxTemp          float64\n",
              "Rainfall         float64\n",
              "Evaporation      float64\n",
              "Sunshine         float64\n",
              "WindGustDir       object\n",
              "WindGustSpeed    float64\n",
              "WindDir9am        object\n",
              "WindDir3pm        object\n",
              "WindSpeed9am     float64\n",
              "WindSpeed3pm     float64\n",
              "Humidity9am      float64\n",
              "Humidity3pm      float64\n",
              "Pressure9am      float64\n",
              "Pressure3pm      float64\n",
              "Cloud9am         float64\n",
              "Cloud3pm         float64\n",
              "Temp9am          float64\n",
              "Temp3pm          float64\n",
              "RainToday         object\n",
              "RainTomorrow      object\n",
              "dtype: object"
            ]
          },
          "metadata": {},
          "execution_count": 18
        }
      ]
    },
    {
      "cell_type": "markdown",
      "source": [
        "Visualization"
      ],
      "metadata": {
        "id": "brKsk9RcTYA_"
      }
    },
    {
      "cell_type": "code",
      "source": [
        "sns.countplot(data=df,x= \"RainTomorrow\")\n",
        "plt.show()"
      ],
      "metadata": {
        "colab": {
          "base_uri": "https://localhost:8080/",
          "height": 279
        },
        "id": "foOfLNyYTbfh",
        "outputId": "02247027-7f05-4a4d-9fb1-b7e1685bc675"
      },
      "execution_count": null,
      "outputs": [
        {
          "output_type": "display_data",
          "data": {
            "text/plain": [
              "<Figure size 432x288 with 1 Axes>"
            ],
            "image/png": "[encoded data removed]"
          },
          "metadata": {
            "needs_background": "light"
          }
        }
      ]
    },
    {
      "cell_type": "code",
      "source": [
        "#plt.figure(figsize=(18,18))\n",
        "#sns.heatmap(df.corr(),annot=True)\n",
        "#plt.show()"
      ],
      "metadata": {
        "id": "Hr-zeS_kTzvi"
      },
      "execution_count": null,
      "outputs": []
    },
    {
      "cell_type": "markdown",
      "source": [
        "Modelling"
      ],
      "metadata": {
        "id": "ixlQgebFU9hC"
      }
    },
    {
      "cell_type": "code",
      "source": [
        "#apply Label encoder on catgorical data\n",
        "from sklearn.preprocessing import LabelEncoder"
      ],
      "metadata": {
        "id": "lHMfsW6NUT89"
      },
      "execution_count": null,
      "outputs": []
    },
    {
      "cell_type": "code",
      "source": [
        "#create the object for LabelEncoder\n",
        "le=LabelEncoder()\n",
        "for i in df_cat:\n",
        "  df[i]=le.fit_transform(df[i])\n",
        "   "
      ],
      "metadata": {
        "id": "bxPEr__6VY3r"
      },
      "execution_count": null,
      "outputs": []
    },
    {
      "cell_type": "code",
      "source": [
        "df.head() #to check encoding"
      ],
      "metadata": {
        "colab": {
          "base_uri": "https://localhost:8080/",
          "height": 299
        },
        "id": "i3I1CRvNV-D7",
        "outputId": "ad7bdbfa-fbc7-4f78-9ba7-57fb9e0e342b"
      },
      "execution_count": null,
      "outputs": [
        {
          "output_type": "execute_result",
          "data": {
            "text/plain": [
              "   Date  Location  MinTemp  MaxTemp  Rainfall  Evaporation  Sunshine  \\\n",
              "0   396         2     13.4     22.9       0.6          4.8       8.4   \n",
              "1   397         2      7.4     25.1       0.0          4.8       8.4   \n",
              "2   398         2     12.9     25.7       0.0          4.8       8.4   \n",
              "3   399         2      9.2     28.0       0.0          4.8       8.4   \n",
              "4   400         2     17.5     32.3       1.0          4.8       8.4   \n",
              "\n",
              "   WindGustDir  WindGustSpeed  WindDir9am  ...  Humidity9am  Humidity3pm  \\\n",
              "0           13           44.0          13  ...         71.0         22.0   \n",
              "1           14           44.0           6  ...         44.0         25.0   \n",
              "2           15           46.0          13  ...         38.0         30.0   \n",
              "3            4           24.0           9  ...         45.0         16.0   \n",
              "4           13           41.0           1  ...         82.0         33.0   \n",
              "\n",
              "   Pressure9am  Pressure3pm  Cloud9am  Cloud3pm  Temp9am  Temp3pm  RainToday  \\\n",
              "0       1007.7       1007.1       8.0       5.0     16.9     21.8          0   \n",
              "1       1010.6       1007.8       5.0       5.0     17.2     24.3          0   \n",
              "2       1007.6       1008.7       5.0       2.0     21.0     23.2          0   \n",
              "3       1017.6       1012.8       5.0       5.0     18.1     26.5          0   \n",
              "4       1010.8       1006.0       7.0       8.0     17.8     29.7          0   \n",
              "\n",
              "   RainTomorrow  \n",
              "0             0  \n",
              "1             0  \n",
              "2             0  \n",
              "3             0  \n",
              "4             0  \n",
              "\n",
              "[5 rows x 23 columns]"
            ],
            "text/html": [
              "\n",
              "  <div id=\"df-03512422-a682-498a-baae-358fd2dc48d3\">\n",
              "    <div class=\"colab-df-container\">\n",
              "      <div>\n",
              "<style scoped>\n",
              "    .dataframe tbody tr th:only-of-type {\n",
              "        vertical-align: middle;\n",
              "    }\n",
              "\n",
              "    .dataframe tbody tr th {\n",
              "        vertical-align: top;\n",
              "    }\n",
              "\n",
              "    .dataframe thead th {\n",
              "        text-align: right;\n",
              "    }\n",
              "</style>\n",
              "<table border=\"1\" class=\"dataframe\">\n",
              "  <thead>\n",
              "    <tr style=\"text-align: right;\">\n",
              "      <th></th>\n",
              "      <th>Date</th>\n",
              "      <th>Location</th>\n",
              "      <th>MinTemp</th>\n",
              "      <th>MaxTemp</th>\n",
              "      <th>Rainfall</th>\n",
              "      <th>Evaporation</th>\n",
              "      <th>Sunshine</th>\n",
              "      <th>WindGustDir</th>\n",
              "      <th>WindGustSpeed</th>\n",
              "      <th>WindDir9am</th>\n",
              "      <th>...</th>\n",
              "      <th>Humidity9am</th>\n",
              "      <th>Humidity3pm</th>\n",
              "      <th>Pressure9am</th>\n",
              "      <th>Pressure3pm</th>\n",
              "      <th>Cloud9am</th>\n",
              "      <th>Cloud3pm</th>\n",
              "      <th>Temp9am</th>\n",
              "      <th>Temp3pm</th>\n",
              "      <th>RainToday</th>\n",
              "      <th>RainTomorrow</th>\n",
              "    </tr>\n",
              "  </thead>\n",
              "  <tbody>\n",
              "    <tr>\n",
              "      <th>0</th>\n",
              "      <td>396</td>\n",
              "      <td>2</td>\n",
              "      <td>13.4</td>\n",
              "      <td>22.9</td>\n",
              "      <td>0.6</td>\n",
              "      <td>4.8</td>\n",
              "      <td>8.4</td>\n",
              "      <td>13</td>\n",
              "      <td>44.0</td>\n",
              "      <td>13</td>\n",
              "      <td>...</td>\n",
              "      <td>71.0</td>\n",
              "      <td>22.0</td>\n",
              "      <td>1007.7</td>\n",
              "      <td>1007.1</td>\n",
              "      <td>8.0</td>\n",
              "      <td>5.0</td>\n",
              "      <td>16.9</td>\n",
              "      <td>21.8</td>\n",
              "      <td>0</td>\n",
              "      <td>0</td>\n",
              "    </tr>\n",
              "    <tr>\n",
              "      <th>1</th>\n",
              "      <td>397</td>\n",
              "      <td>2</td>\n",
              "      <td>7.4</td>\n",
              "      <td>25.1</td>\n",
              "      <td>0.0</td>\n",
              "      <td>4.8</td>\n",
              "      <td>8.4</td>\n",
              "      <td>14</td>\n",
              "      <td>44.0</td>\n",
              "      <td>6</td>\n",
              "      <td>...</td>\n",
              "      <td>44.0</td>\n",
              "      <td>25.0</td>\n",
              "      <td>1010.6</td>\n",
              "      <td>1007.8</td>\n",
              "      <td>5.0</td>\n",
              "      <td>5.0</td>\n",
              "      <td>17.2</td>\n",
              "      <td>24.3</td>\n",
              "      <td>0</td>\n",
              "      <td>0</td>\n",
              "    </tr>\n",
              "    <tr>\n",
              "      <th>2</th>\n",
              "      <td>398</td>\n",
              "      <td>2</td>\n",
              "      <td>12.9</td>\n",
              "      <td>25.7</td>\n",
              "      <td>0.0</td>\n",
              "      <td>4.8</td>\n",
              "      <td>8.4</td>\n",
              "      <td>15</td>\n",
              "      <td>46.0</td>\n",
              "      <td>13</td>\n",
              "      <td>...</td>\n",
              "      <td>38.0</td>\n",
              "      <td>30.0</td>\n",
              "      <td>1007.6</td>\n",
              "      <td>1008.7</td>\n",
              "      <td>5.0</td>\n",
              "      <td>2.0</td>\n",
              "      <td>21.0</td>\n",
              "      <td>23.2</td>\n",
              "      <td>0</td>\n",
              "      <td>0</td>\n",
              "    </tr>\n",
              "    <tr>\n",
              "      <th>3</th>\n",
              "      <td>399</td>\n",
              "      <td>2</td>\n",
              "      <td>9.2</td>\n",
              "      <td>28.0</td>\n",
              "      <td>0.0</td>\n",
              "      <td>4.8</td>\n",
              "      <td>8.4</td>\n",
              "      <td>4</td>\n",
              "      <td>24.0</td>\n",
              "      <td>9</td>\n",
              "      <td>...</td>\n",
              "      <td>45.0</td>\n",
              "      <td>16.0</td>\n",
              "      <td>1017.6</td>\n",
              "      <td>1012.8</td>\n",
              "      <td>5.0</td>\n",
              "      <td>5.0</td>\n",
              "      <td>18.1</td>\n",
              "      <td>26.5</td>\n",
              "      <td>0</td>\n",
              "      <td>0</td>\n",
              "    </tr>\n",
              "    <tr>\n",
              "      <th>4</th>\n",
              "      <td>400</td>\n",
              "      <td>2</td>\n",
              "      <td>17.5</td>\n",
              "      <td>32.3</td>\n",
              "      <td>1.0</td>\n",
              "      <td>4.8</td>\n",
              "      <td>8.4</td>\n",
              "      <td>13</td>\n",
              "      <td>41.0</td>\n",
              "      <td>1</td>\n",
              "      <td>...</td>\n",
              "      <td>82.0</td>\n",
              "      <td>33.0</td>\n",
              "      <td>1010.8</td>\n",
              "      <td>1006.0</td>\n",
              "      <td>7.0</td>\n",
              "      <td>8.0</td>\n",
              "      <td>17.8</td>\n",
              "      <td>29.7</td>\n",
              "      <td>0</td>\n",
              "      <td>0</td>\n",
              "    </tr>\n",
              "  </tbody>\n",
              "</table>\n",
              "<p>5 rows × 23 columns</p>\n",
              "</div>\n",
              "      <button class=\"colab-df-convert\" onclick=\"convertToInteractive('df-03512422-a682-498a-baae-358fd2dc48d3')\"\n",
              "              title=\"Convert this dataframe to an interactive table.\"\n",
              "              style=\"display:none;\">\n",
              "        \n",
              "  <svg xmlns=\"http://www.w3.org/2000/svg\" height=\"24px\"viewBox=\"0 0 24 24\"\n",
              "       width=\"24px\">\n",
              "    <path d=\"M0 0h24v24H0V0z\" fill=\"none\"/>\n",
              "    <path d=\"M18.56 5.44l.94 2.06.94-2.06 2.06-.94-2.06-.94-.94-2.06-.94 2.06-2.06.94zm-11 1L8.5 8.5l.94-2.06 2.06-.94-2.06-.94L8.5 2.5l-.94 2.06-2.06.94zm10 10l.94 2.06.94-2.06 2.06-.94-2.06-.94-.94-2.06-.94 2.06-2.06.94z\"/><path d=\"M17.41 7.96l-1.37-1.37c-.4-.4-.92-.59-1.43-.59-.52 0-1.04.2-1.43.59L10.3 9.45l-7.72 7.72c-.78.78-.78 2.05 0 2.83L4 21.41c.39.39.9.59 1.41.59.51 0 1.02-.2 1.41-.59l7.78-7.78 2.81-2.81c.8-.78.8-2.07 0-2.86zM5.41 20L4 18.59l7.72-7.72 1.47 1.35L5.41 20z\"/>\n",
              "  </svg>\n",
              "      </button>\n",
              "      \n",
              "  <style>\n",
              "    .colab-df-container {\n",
              "      display:flex;\n",
              "      flex-wrap:wrap;\n",
              "      gap: 12px;\n",
              "    }\n",
              "\n",
              "    .colab-df-convert {\n",
              "      background-color: #E8F0FE;\n",
              "      border: none;\n",
              "      border-radius: 50%;\n",
              "      cursor: pointer;\n",
              "      display: none;\n",
              "      fill: #1967D2;\n",
              "      height: 32px;\n",
              "      padding: 0 0 0 0;\n",
              "      width: 32px;\n",
              "    }\n",
              "\n",
              "    .colab-df-convert:hover {\n",
              "      background-color: #E2EBFA;\n",
              "      box-shadow: 0px 1px 2px rgba(60, 64, 67, 0.3), 0px 1px 3px 1px rgba(60, 64, 67, 0.15);\n",
              "      fill: #174EA6;\n",
              "    }\n",
              "\n",
              "    [theme=dark] .colab-df-convert {\n",
              "      background-color: #3B4455;\n",
              "      fill: #D2E3FC;\n",
              "    }\n",
              "\n",
              "    [theme=dark] .colab-df-convert:hover {\n",
              "      background-color: #434B5C;\n",
              "      box-shadow: 0px 1px 3px 1px rgba(0, 0, 0, 0.15);\n",
              "      filter: drop-shadow(0px 1px 2px rgba(0, 0, 0, 0.3));\n",
              "      fill: #FFFFFF;\n",
              "    }\n",
              "  </style>\n",
              "\n",
              "      <script>\n",
              "        const buttonEl =\n",
              "          document.querySelector('#df-03512422-a682-498a-baae-358fd2dc48d3 button.colab-df-convert');\n",
              "        buttonEl.style.display =\n",
              "          google.colab.kernel.accessAllowed ? 'block' : 'none';\n",
              "\n",
              "        async function convertToInteractive(key) {\n",
              "          const element = document.querySelector('#df-03512422-a682-498a-baae-358fd2dc48d3');\n",
              "          const dataTable =\n",
              "            await google.colab.kernel.invokeFunction('convertToInteractive',\n",
              "                                                     [key], {});\n",
              "          if (!dataTable) return;\n",
              "\n",
              "          const docLinkHtml = 'Like what you see? Visit the ' +\n",
              "            '<a target=\"_blank\" href=https://colab.research.google.com/notebooks/data_table.ipynb>data table notebook</a>'\n",
              "            + ' to learn more about interactive tables.';\n",
              "          element.innerHTML = '';\n",
              "          dataTable['output_type'] = 'display_data';\n",
              "          await google.colab.output.renderOutput(dataTable, element);\n",
              "          const docLink = document.createElement('div');\n",
              "          docLink.innerHTML = docLinkHtml;\n",
              "          element.appendChild(docLink);\n",
              "        }\n",
              "      </script>\n",
              "    </div>\n",
              "  </div>\n",
              "  "
            ]
          },
          "metadata": {},
          "execution_count": 23
        }
      ]
    },
    {
      "cell_type": "code",
      "source": [
        "#seperate input and output\n",
        "X=df.drop(\"RainTomorrow\",axis=1)  #input\n",
        "Y=df[\"RainTomorrow\"]  #output"
      ],
      "metadata": {
        "id": "TXfPauztW7pr"
      },
      "execution_count": null,
      "outputs": []
    },
    {
      "cell_type": "code",
      "source": [
        "#train _test_split\n",
        "from sklearn.model_selection import train_test_split\n",
        "X_train,X_test,Y_train,Y_test=train_test_split(X,Y,test_size=0.3,random_state=1)"
      ],
      "metadata": {
        "id": "NFUaklSmXMP6"
      },
      "execution_count": null,
      "outputs": []
    },
    {
      "cell_type": "code",
      "source": [
        "X_train.shape  #70% data"
      ],
      "metadata": {
        "colab": {
          "base_uri": "https://localhost:8080/"
        },
        "id": "dWHBXzgpXOU6",
        "outputId": "216c3d3f-b1fb-4264-a42d-ca9a0d1f7fa9"
      },
      "execution_count": null,
      "outputs": [
        {
          "output_type": "execute_result",
          "data": {
            "text/plain": [
              "(101822, 22)"
            ]
          },
          "metadata": {},
          "execution_count": 26
        }
      ]
    },
    {
      "cell_type": "code",
      "source": [
        "X_test.shape#30% data"
      ],
      "metadata": {
        "colab": {
          "base_uri": "https://localhost:8080/"
        },
        "id": "uGCtMFXBXqM_",
        "outputId": "aa3e5de3-86c2-45ae-8c02-74e25a3ad5a0"
      },
      "execution_count": null,
      "outputs": [
        {
          "output_type": "execute_result",
          "data": {
            "text/plain": [
              "(43638, 22)"
            ]
          },
          "metadata": {},
          "execution_count": 27
        }
      ]
    },
    {
      "cell_type": "code",
      "source": [
        "#StandardScaler\n",
        "#appling scaling on input\n",
        "from sklearn.preprocessing import StandardScaler\n",
        "#create the object of StandardScaler\n",
        "ss=StandardScaler()\n",
        "X_train=ss.fit_transform(X_train)\n",
        "X_test=ss.transform(X_test)"
      ],
      "metadata": {
        "id": "99Hx8o1qXsnW"
      },
      "execution_count": null,
      "outputs": []
    },
    {
      "cell_type": "code",
      "source": [
        " #to check scaling"
      ],
      "metadata": {
        "id": "l7c_21HSYUaq"
      },
      "execution_count": null,
      "outputs": []
    },
    {
      "cell_type": "code",
      "source": [
        "#to check data balance or not\n",
        "df[\"RainTomorrow\"].value_counts()   #data is unbalanced"
      ],
      "metadata": {
        "colab": {
          "base_uri": "https://localhost:8080/"
        },
        "id": "Ufr93sGQaGjw",
        "outputId": "a91dda6e-698c-44ce-ee7f-c264adf188a6"
      },
      "execution_count": null,
      "outputs": [
        {
          "output_type": "execute_result",
          "data": {
            "text/plain": [
              "0    113583\n",
              "1     31877\n",
              "Name: RainTomorrow, dtype: int64"
            ]
          },
          "metadata": {},
          "execution_count": 30
        }
      ]
    },
    {
      "cell_type": "code",
      "source": [
        "# ! pip install imblearn\n",
        "from imblearn.over_sampling import RandomOverSampler\n",
        "ros =  RandomOverSampler()\n",
        "X_train,Y_train = ros.fit_resample(X_train,Y_train)\n",
        "X_test,Y_test = ros.fit_resample(X_test,Y_test)"
      ],
      "metadata": {
        "id": "2j7xomPUaoFR"
      },
      "execution_count": null,
      "outputs": []
    },
    {
      "cell_type": "code",
      "source": [
        "pd.Series(Y_train).value_counts()   #to check the  balance or not"
      ],
      "metadata": {
        "colab": {
          "base_uri": "https://localhost:8080/"
        },
        "id": "iImU4PSkaoIg",
        "outputId": "b8de6cef-90cb-40be-c4a5-5af429eb3748"
      },
      "execution_count": null,
      "outputs": [
        {
          "output_type": "execute_result",
          "data": {
            "text/plain": [
              "0    79368\n",
              "1    79368\n",
              "Name: RainTomorrow, dtype: int64"
            ]
          },
          "metadata": {},
          "execution_count": 32
        }
      ]
    },
    {
      "cell_type": "code",
      "source": [
        "pd.Series(Y_test).value_counts()  #to check the  balance or not"
      ],
      "metadata": {
        "colab": {
          "base_uri": "https://localhost:8080/"
        },
        "id": "yOkJA_UHaoMR",
        "outputId": "e6aca0f3-dc29-47f6-9d6d-f5074b5222f0"
      },
      "execution_count": null,
      "outputs": [
        {
          "output_type": "execute_result",
          "data": {
            "text/plain": [
              "0    34215\n",
              "1    34215\n",
              "Name: RainTomorrow, dtype: int64"
            ]
          },
          "metadata": {},
          "execution_count": 33
        }
      ]
    },
    {
      "cell_type": "code",
      "source": [
        "#Create neural Network\n",
        "import tensorflow as tf\n",
        "model=tf.keras.Sequential([tf.keras.layers.Dense(units=20,activation=\"relu\",input_shape=(X.shape[1],)),\n",
        "                           tf.keras.layers.Dense(units=16,activation=\"relu\"),\n",
        "                           tf.keras.layers.Dense(units=1,activation=\"sigmoid\")])\n",
        "\n"
      ],
      "metadata": {
        "id": "mPj-FBRNYaIK"
      },
      "execution_count": null,
      "outputs": []
    },
    {
      "cell_type": "code",
      "source": [
        "#compile the model\n",
        "model.compile(optimizer=\"adam\",loss=\"binary_crossentropy\",metrics=['accuracy'])\n"
      ],
      "metadata": {
        "id": "LhYgm81iZsH-"
      },
      "execution_count": null,
      "outputs": []
    },
    {
      "cell_type": "code",
      "source": [
        "#create the early stopping to prevent from the overfitting due to epochs(iteration)\n",
        "#means we create call back\n",
        "from tensorflow.keras.callbacks import EarlyStopping\n",
        "callback = EarlyStopping(\n",
        "    monitor=\"val_loss\",\n",
        "    min_delta=0.00001,\n",
        "    patience=20,\n",
        "    verbose=1,\n",
        "    mode=\"auto\",\n",
        "    baseline=None,\n",
        "    restore_best_weights=False\n",
        ")\n"
      ],
      "metadata": {
        "id": "i0_KNguvdQMV"
      },
      "execution_count": null,
      "outputs": []
    },
    {
      "cell_type": "code",
      "source": [
        "#trained the model\n",
        "trained_model=model.fit(X_train,Y_train,batch_size=32,epochs=50,validation_data=(X_test,Y_test),callbacks=callback)"
      ],
      "metadata": {
        "id": "sNVeDLvibMEM",
        "colab": {
          "base_uri": "https://localhost:8080/"
        },
        "outputId": "95faf6c5-e609-4fcd-95be-4dc302a873dd"
      },
      "execution_count": null,
      "outputs": [
        {
          "output_type": "stream",
          "name": "stdout",
          "text": [
            "Epoch 1/50\n",
            "4961/4961 [==============================] - 18s 3ms/step - loss: 0.4667 - accuracy: 0.7752 - val_loss: 0.4523 - val_accuracy: 0.7868\n",
            "Epoch 2/50\n",
            "4961/4961 [==============================] - 12s 2ms/step - loss: 0.4466 - accuracy: 0.7896 - val_loss: 0.4474 - val_accuracy: 0.7900\n",
            "Epoch 3/50\n",
            "4961/4961 [==============================] - 12s 3ms/step - loss: 0.4410 - accuracy: 0.7927 - val_loss: 0.4452 - val_accuracy: 0.7924\n",
            "Epoch 4/50\n",
            "4961/4961 [==============================] - 12s 2ms/step - loss: 0.4385 - accuracy: 0.7945 - val_loss: 0.4456 - val_accuracy: 0.7921\n",
            "Epoch 5/50\n",
            "4961/4961 [==============================] - 12s 2ms/step - loss: 0.4364 - accuracy: 0.7956 - val_loss: 0.4448 - val_accuracy: 0.7922\n",
            "Epoch 6/50\n",
            "4961/4961 [==============================] - 12s 2ms/step - loss: 0.4352 - accuracy: 0.7961 - val_loss: 0.4442 - val_accuracy: 0.7933\n",
            "Epoch 7/50\n",
            "4961/4961 [==============================] - 12s 2ms/step - loss: 0.4338 - accuracy: 0.7968 - val_loss: 0.4447 - val_accuracy: 0.7939\n",
            "Epoch 8/50\n",
            "4961/4961 [==============================] - 15s 3ms/step - loss: 0.4325 - accuracy: 0.7970 - val_loss: 0.4418 - val_accuracy: 0.7935\n",
            "Epoch 9/50\n",
            "4961/4961 [==============================] - 12s 2ms/step - loss: 0.4315 - accuracy: 0.7976 - val_loss: 0.4442 - val_accuracy: 0.7932\n",
            "Epoch 10/50\n",
            "4961/4961 [==============================] - 12s 2ms/step - loss: 0.4309 - accuracy: 0.7982 - val_loss: 0.4428 - val_accuracy: 0.7930\n",
            "Epoch 11/50\n",
            "4961/4961 [==============================] - 15s 3ms/step - loss: 0.4302 - accuracy: 0.7993 - val_loss: 0.4442 - val_accuracy: 0.7923\n",
            "Epoch 12/50\n",
            "4961/4961 [==============================] - 12s 2ms/step - loss: 0.4299 - accuracy: 0.7991 - val_loss: 0.4418 - val_accuracy: 0.7938\n",
            "Epoch 13/50\n",
            "4961/4961 [==============================] - 15s 3ms/step - loss: 0.4293 - accuracy: 0.7994 - val_loss: 0.4436 - val_accuracy: 0.7928\n",
            "Epoch 14/50\n",
            "4961/4961 [==============================] - 12s 2ms/step - loss: 0.4286 - accuracy: 0.8002 - val_loss: 0.4423 - val_accuracy: 0.7940\n",
            "Epoch 15/50\n",
            "4961/4961 [==============================] - 12s 2ms/step - loss: 0.4283 - accuracy: 0.8000 - val_loss: 0.4419 - val_accuracy: 0.7931\n",
            "Epoch 16/50\n",
            "4961/4961 [==============================] - 12s 2ms/step - loss: 0.4278 - accuracy: 0.7997 - val_loss: 0.4416 - val_accuracy: 0.7937\n",
            "Epoch 17/50\n",
            "4961/4961 [==============================] - 12s 2ms/step - loss: 0.4276 - accuracy: 0.8000 - val_loss: 0.4419 - val_accuracy: 0.7937\n",
            "Epoch 18/50\n",
            "4961/4961 [==============================] - 12s 2ms/step - loss: 0.4273 - accuracy: 0.8005 - val_loss: 0.4434 - val_accuracy: 0.7919\n",
            "Epoch 19/50\n",
            "4961/4961 [==============================] - 12s 2ms/step - loss: 0.4268 - accuracy: 0.8006 - val_loss: 0.4412 - val_accuracy: 0.7943\n",
            "Epoch 20/50\n",
            "4961/4961 [==============================] - 12s 2ms/step - loss: 0.4267 - accuracy: 0.8009 - val_loss: 0.4415 - val_accuracy: 0.7924\n",
            "Epoch 21/50\n",
            "4961/4961 [==============================] - 12s 2ms/step - loss: 0.4264 - accuracy: 0.8010 - val_loss: 0.4433 - val_accuracy: 0.7925\n",
            "Epoch 22/50\n",
            "4961/4961 [==============================] - 12s 2ms/step - loss: 0.4263 - accuracy: 0.8010 - val_loss: 0.4411 - val_accuracy: 0.7919\n",
            "Epoch 23/50\n",
            "4961/4961 [==============================] - 13s 3ms/step - loss: 0.4256 - accuracy: 0.8022 - val_loss: 0.4401 - val_accuracy: 0.7941\n",
            "Epoch 24/50\n",
            "4961/4961 [==============================] - 16s 3ms/step - loss: 0.4255 - accuracy: 0.8007 - val_loss: 0.4412 - val_accuracy: 0.7938\n",
            "Epoch 25/50\n",
            "4961/4961 [==============================] - 12s 2ms/step - loss: 0.4253 - accuracy: 0.8019 - val_loss: 0.4408 - val_accuracy: 0.7949\n",
            "Epoch 26/50\n",
            "4961/4961 [==============================] - 12s 2ms/step - loss: 0.4251 - accuracy: 0.8026 - val_loss: 0.4426 - val_accuracy: 0.7933\n",
            "Epoch 27/50\n",
            "4961/4961 [==============================] - 12s 2ms/step - loss: 0.4247 - accuracy: 0.8026 - val_loss: 0.4404 - val_accuracy: 0.7943\n",
            "Epoch 28/50\n",
            "4961/4961 [==============================] - 15s 3ms/step - loss: 0.4248 - accuracy: 0.8024 - val_loss: 0.4418 - val_accuracy: 0.7956\n",
            "Epoch 29/50\n",
            "4961/4961 [==============================] - 13s 3ms/step - loss: 0.4243 - accuracy: 0.8023 - val_loss: 0.4404 - val_accuracy: 0.7961\n",
            "Epoch 30/50\n",
            "4961/4961 [==============================] - 12s 2ms/step - loss: 0.4238 - accuracy: 0.8033 - val_loss: 0.4423 - val_accuracy: 0.7957\n",
            "Epoch 31/50\n",
            "4961/4961 [==============================] - 12s 2ms/step - loss: 0.4241 - accuracy: 0.8025 - val_loss: 0.4422 - val_accuracy: 0.7952\n",
            "Epoch 32/50\n",
            "4961/4961 [==============================] - 12s 2ms/step - loss: 0.4237 - accuracy: 0.8021 - val_loss: 0.4441 - val_accuracy: 0.7954\n",
            "Epoch 33/50\n",
            "4961/4961 [==============================] - 12s 2ms/step - loss: 0.4235 - accuracy: 0.8024 - val_loss: 0.4425 - val_accuracy: 0.7955\n",
            "Epoch 34/50\n",
            "4961/4961 [==============================] - 12s 2ms/step - loss: 0.4233 - accuracy: 0.8027 - val_loss: 0.4431 - val_accuracy: 0.7946\n",
            "Epoch 35/50\n",
            "4961/4961 [==============================] - 12s 2ms/step - loss: 0.4234 - accuracy: 0.8029 - val_loss: 0.4427 - val_accuracy: 0.7926\n",
            "Epoch 36/50\n",
            "4961/4961 [==============================] - 12s 2ms/step - loss: 0.4230 - accuracy: 0.8036 - val_loss: 0.4411 - val_accuracy: 0.7944\n",
            "Epoch 37/50\n",
            "4961/4961 [==============================] - 12s 2ms/step - loss: 0.4230 - accuracy: 0.8033 - val_loss: 0.4418 - val_accuracy: 0.7957\n",
            "Epoch 38/50\n",
            "4961/4961 [==============================] - 13s 3ms/step - loss: 0.4229 - accuracy: 0.8029 - val_loss: 0.4428 - val_accuracy: 0.7945\n",
            "Epoch 39/50\n",
            "4961/4961 [==============================] - 13s 3ms/step - loss: 0.4227 - accuracy: 0.8030 - val_loss: 0.4427 - val_accuracy: 0.7947\n",
            "Epoch 40/50\n",
            "4961/4961 [==============================] - 15s 3ms/step - loss: 0.4225 - accuracy: 0.8034 - val_loss: 0.4415 - val_accuracy: 0.7963\n",
            "Epoch 41/50\n",
            "4961/4961 [==============================] - 12s 2ms/step - loss: 0.4226 - accuracy: 0.8034 - val_loss: 0.4410 - val_accuracy: 0.7949\n",
            "Epoch 42/50\n",
            "4961/4961 [==============================] - 12s 3ms/step - loss: 0.4224 - accuracy: 0.8032 - val_loss: 0.4423 - val_accuracy: 0.7946\n",
            "Epoch 43/50\n",
            "4961/4961 [==============================] - 12s 2ms/step - loss: 0.4222 - accuracy: 0.8032 - val_loss: 0.4427 - val_accuracy: 0.7940\n",
            "Epoch 43: early stopping\n"
          ]
        }
      ]
    },
    {
      "cell_type": "code",
      "source": [
        "print(\"Training Loss and Training Accuracy:  \",model.evaluate(X_train,Y_train))  #training \n",
        "print(\"Testing Loss and Testing Accuracy:  \",model.evaluate(X_test,Y_test)) #testing\n"
      ],
      "metadata": {
        "id": "8a-dGAhUb5PT",
        "colab": {
          "base_uri": "https://localhost:8080/"
        },
        "outputId": "141fe878-56bc-4779-e181-7e97725364e5"
      },
      "execution_count": null,
      "outputs": [
        {
          "output_type": "stream",
          "name": "stdout",
          "text": [
            "4961/4961 [==============================] - 7s 1ms/step - loss: 0.4214 - accuracy: 0.8037\n",
            "Training Loss and Training Accuracy:   [0.4214451014995575, 0.8037496209144592]\n",
            "2139/2139 [==============================] - 4s 2ms/step - loss: 0.4427 - accuracy: 0.7940\n",
            "Testing Loss and Testing Accuracy:   [0.4427163898944855, 0.7940376996994019]\n"
          ]
        }
      ]
    },
    {
      "cell_type": "code",
      "source": [
        "#now visualize the training and testing loss\n",
        "plt.plot(trained_model.history[\"loss\"],label=\"Training loss\")\n",
        "plt.plot(trained_model.history[\"val_loss\"],label=\"Testing loss\")\n",
        "plt.legend()\n",
        "plt.show()"
      ],
      "metadata": {
        "colab": {
          "base_uri": "https://localhost:8080/",
          "height": 265
        },
        "id": "s9Nm27PcxjTJ",
        "outputId": "4a8705f8-4da9-4664-9cce-d13b76a262a7"
      },
      "execution_count": null,
      "outputs": [
        {
          "output_type": "display_data",
          "data": {
            "text/plain": [
              "<Figure size 432x288 with 1 Axes>"
            ],
            "image/png": "[encoded data removed]"
          },
          "metadata": {
            "needs_background": "light"
          }
        }
      ]
    },
    {
      "cell_type": "code",
      "source": [
        "#Visualize  for Accuracy \n",
        "plt.plot(trained_model.history['accuracy'],label=\"Training Accuracy\")\n",
        "plt.plot(trained_model.history['val_accuracy'],label=\"Testing Accuracy\")\n",
        "plt.legend()\n",
        "plt.show()             "
      ],
      "metadata": {
        "colab": {
          "base_uri": "https://localhost:8080/",
          "height": 269
        },
        "id": "RsyMjYpbyTff",
        "outputId": "86edc947-501c-437e-e77a-6079ef34eae6"
      },
      "execution_count": null,
      "outputs": [
        {
          "output_type": "display_data",
          "data": {
            "text/plain": [
              "<Figure size 432x288 with 1 Axes>"
            ],
            "image/png": "[encoded data removed]"
          },
          "metadata": {
            "needs_background": "light"
          }
        }
      ]
    },
    {
      "cell_type": "code",
      "source": [
        "#testing the model\n",
        "Y_pred=model.predict(X_test).round(2)\n",
        "Y_pred"
      ],
      "metadata": {
        "colab": {
          "base_uri": "https://localhost:8080/"
        },
        "id": "8m8owjf8yi8n",
        "outputId": "ac01c37a-a644-422e-d16e-627aae755788"
      },
      "execution_count": null,
      "outputs": [
        {
          "output_type": "stream",
          "name": "stdout",
          "text": [
            "2139/2139 [==============================] - 3s 1ms/step\n"
          ]
        },
        {
          "output_type": "execute_result",
          "data": {
            "text/plain": [
              "array([[0.24],\n",
              "       [0.34],\n",
              "       [0.74],\n",
              "       ...,\n",
              "       [0.94],\n",
              "       [0.81],\n",
              "       [0.96]], dtype=float32)"
            ]
          },
          "metadata": {},
          "execution_count": 41
        }
      ]
    },
    {
      "cell_type": "code",
      "source": [
        "Y_pred=np.where(Y_pred>=0.5,1,0)   #to give predicted output in 0 &1\n",
        "Y_pred"
      ],
      "metadata": {
        "colab": {
          "base_uri": "https://localhost:8080/"
        },
        "id": "ePK2J7w5zCDR",
        "outputId": "63e026fd-d479-4c13-f0d9-875f5d32af85"
      },
      "execution_count": null,
      "outputs": [
        {
          "output_type": "execute_result",
          "data": {
            "text/plain": [
              "array([[0],\n",
              "       [0],\n",
              "       [1],\n",
              "       ...,\n",
              "       [1],\n",
              "       [1],\n",
              "       [1]])"
            ]
          },
          "metadata": {},
          "execution_count": 42
        }
      ]
    },
    {
      "cell_type": "code",
      "source": [
        "from sklearn.metrics import classification_report\n",
        "from sklearn.metrics import confusion_matrix"
      ],
      "metadata": {
        "id": "CsFj_sG_zch6"
      },
      "execution_count": null,
      "outputs": []
    },
    {
      "cell_type": "code",
      "source": [
        "print(classification_report(Y_test,Y_pred))\n",
        "print(confusion_matrix(Y_test,Y_pred))"
      ],
      "metadata": {
        "colab": {
          "base_uri": "https://localhost:8080/"
        },
        "id": "TbAXzOuezuCQ",
        "outputId": "64995ce8-1b27-4ad3-8c74-4f7d993ebe53"
      },
      "execution_count": null,
      "outputs": [
        {
          "output_type": "stream",
          "name": "stdout",
          "text": [
            "              precision    recall  f1-score   support\n",
            "\n",
            "           0       0.79      0.80      0.80     34215\n",
            "           1       0.80      0.79      0.79     34215\n",
            "\n",
            "    accuracy                           0.79     68430\n",
            "   macro avg       0.79      0.79      0.79     68430\n",
            "weighted avg       0.79      0.79      0.79     68430\n",
            "\n",
            "[[27467  6748]\n",
            " [ 7349 26866]]\n"
          ]
        }
      ]
    },
    {
      "cell_type": "code",
      "source": [
        "#so there is overfitting in the model so we use regularizers\n",
        "from keras import regularizers\n",
        "#from keras.layers import Dropout\n",
        "model1=tf.keras.Sequential([tf.keras.layers.Dense(units=20,activation=\"relu\",input_shape=(X.shape[1],),\n",
        "                                                  kernel_regularizer=regularizers.l2(0.01)),\n",
        "                           tf.keras.layers.Dense(units=16,activation=\"relu\",\n",
        "                                                  kernel_regularizer=regularizers.l2(0.01)),\n",
        "                           tf.keras.layers.Dense(units=1,activation=\"sigmoid\",\n",
        "                                                 kernel_regularizer=regularizers.l2(0.01))])\n"
      ],
      "metadata": {
        "id": "i5UWgQ5Dz53G"
      },
      "execution_count": null,
      "outputs": []
    },
    {
      "cell_type": "code",
      "source": [
        "#model.compile\n",
        "model1.compile(optimizer='adam',loss='binary_crossentropy',metrics=['accuracy'])"
      ],
      "metadata": {
        "id": "8mhL50s81XLb"
      },
      "execution_count": null,
      "outputs": []
    },
    {
      "cell_type": "code",
      "source": [
        "#train the model\n",
        "trained_model1=model1.fit(X_train,Y_train,batch_size=32,epochs=50,\n",
        "                        validation_data=(X_test,Y_test),callbacks=callback)"
      ],
      "metadata": {
        "colab": {
          "base_uri": "https://localhost:8080/"
        },
        "id": "2XXzUjkp1ZpH",
        "outputId": "3049a1ad-1667-4441-8b56-d65d6ca49ec1"
      },
      "execution_count": null,
      "outputs": [
        {
          "output_type": "stream",
          "name": "stdout",
          "text": [
            "Epoch 1/50\n",
            "4961/4961 [==============================] - 15s 3ms/step - loss: 0.5479 - accuracy: 0.7708 - val_loss: 0.5101 - val_accuracy: 0.7781\n",
            "Epoch 2/50\n",
            "4961/4961 [==============================] - 13s 3ms/step - loss: 0.5104 - accuracy: 0.7737 - val_loss: 0.5086 - val_accuracy: 0.7741\n",
            "Epoch 3/50\n",
            "4961/4961 [==============================] - 12s 3ms/step - loss: 0.5084 - accuracy: 0.7731 - val_loss: 0.5106 - val_accuracy: 0.7738\n",
            "Epoch 4/50\n",
            "4961/4961 [==============================] - 12s 2ms/step - loss: 0.5076 - accuracy: 0.7734 - val_loss: 0.5054 - val_accuracy: 0.7771\n",
            "Epoch 5/50\n",
            "4961/4961 [==============================] - 12s 2ms/step - loss: 0.5071 - accuracy: 0.7728 - val_loss: 0.5054 - val_accuracy: 0.7759\n",
            "Epoch 6/50\n",
            "4961/4961 [==============================] - 12s 2ms/step - loss: 0.5068 - accuracy: 0.7735 - val_loss: 0.5039 - val_accuracy: 0.7766\n",
            "Epoch 7/50\n",
            "4961/4961 [==============================] - 12s 2ms/step - loss: 0.5068 - accuracy: 0.7730 - val_loss: 0.5041 - val_accuracy: 0.7766\n",
            "Epoch 8/50\n",
            "4961/4961 [==============================] - 12s 3ms/step - loss: 0.5065 - accuracy: 0.7737 - val_loss: 0.5055 - val_accuracy: 0.7752\n",
            "Epoch 9/50\n",
            "4961/4961 [==============================] - 12s 2ms/step - loss: 0.5065 - accuracy: 0.7735 - val_loss: 0.5045 - val_accuracy: 0.7758\n",
            "Epoch 10/50\n",
            "4961/4961 [==============================] - 12s 2ms/step - loss: 0.5064 - accuracy: 0.7729 - val_loss: 0.5036 - val_accuracy: 0.7770\n",
            "Epoch 11/50\n",
            "4961/4961 [==============================] - 12s 3ms/step - loss: 0.5063 - accuracy: 0.7727 - val_loss: 0.5042 - val_accuracy: 0.7749\n",
            "Epoch 12/50\n",
            "4961/4961 [==============================] - 12s 2ms/step - loss: 0.5063 - accuracy: 0.7726 - val_loss: 0.5053 - val_accuracy: 0.7751\n",
            "Epoch 13/50\n",
            "4961/4961 [==============================] - 12s 2ms/step - loss: 0.5063 - accuracy: 0.7733 - val_loss: 0.5046 - val_accuracy: 0.7765\n",
            "Epoch 14/50\n",
            "4961/4961 [==============================] - 12s 2ms/step - loss: 0.5063 - accuracy: 0.7732 - val_loss: 0.5055 - val_accuracy: 0.7751\n",
            "Epoch 15/50\n",
            "4961/4961 [==============================] - 12s 2ms/step - loss: 0.5062 - accuracy: 0.7730 - val_loss: 0.5044 - val_accuracy: 0.7760\n",
            "Epoch 16/50\n",
            "4961/4961 [==============================] - 12s 2ms/step - loss: 0.5061 - accuracy: 0.7737 - val_loss: 0.5046 - val_accuracy: 0.7762\n",
            "Epoch 17/50\n",
            "4961/4961 [==============================] - 15s 3ms/step - loss: 0.5063 - accuracy: 0.7728 - val_loss: 0.5038 - val_accuracy: 0.7764\n",
            "Epoch 18/50\n",
            "4961/4961 [==============================] - 13s 3ms/step - loss: 0.5061 - accuracy: 0.7735 - val_loss: 0.5052 - val_accuracy: 0.7757\n",
            "Epoch 19/50\n",
            "4961/4961 [==============================] - 12s 2ms/step - loss: 0.5061 - accuracy: 0.7733 - val_loss: 0.5038 - val_accuracy: 0.7749\n",
            "Epoch 20/50\n",
            "4961/4961 [==============================] - 13s 3ms/step - loss: 0.5060 - accuracy: 0.7733 - val_loss: 0.5050 - val_accuracy: 0.7765\n",
            "Epoch 21/50\n",
            "4961/4961 [==============================] - 12s 2ms/step - loss: 0.5059 - accuracy: 0.7735 - val_loss: 0.5038 - val_accuracy: 0.7768\n",
            "Epoch 22/50\n",
            "4961/4961 [==============================] - 12s 2ms/step - loss: 0.5058 - accuracy: 0.7737 - val_loss: 0.5040 - val_accuracy: 0.7758\n",
            "Epoch 23/50\n",
            "4961/4961 [==============================] - 12s 2ms/step - loss: 0.5060 - accuracy: 0.7730 - val_loss: 0.5035 - val_accuracy: 0.7758\n",
            "Epoch 24/50\n",
            "4961/4961 [==============================] - 12s 2ms/step - loss: 0.5058 - accuracy: 0.7737 - val_loss: 0.5036 - val_accuracy: 0.7759\n",
            "Epoch 25/50\n",
            "4961/4961 [==============================] - 12s 2ms/step - loss: 0.5058 - accuracy: 0.7738 - val_loss: 0.5035 - val_accuracy: 0.7760\n",
            "Epoch 26/50\n",
            "4961/4961 [==============================] - 12s 3ms/step - loss: 0.5057 - accuracy: 0.7733 - val_loss: 0.5040 - val_accuracy: 0.7763\n",
            "Epoch 27/50\n",
            "4961/4961 [==============================] - 12s 2ms/step - loss: 0.5056 - accuracy: 0.7737 - val_loss: 0.5050 - val_accuracy: 0.7754\n",
            "Epoch 28/50\n",
            "4961/4961 [==============================] - 12s 2ms/step - loss: 0.5057 - accuracy: 0.7738 - val_loss: 0.5044 - val_accuracy: 0.7754\n",
            "Epoch 29/50\n",
            "4961/4961 [==============================] - 12s 2ms/step - loss: 0.5058 - accuracy: 0.7729 - val_loss: 0.5033 - val_accuracy: 0.7775\n",
            "Epoch 30/50\n",
            "4961/4961 [==============================] - 12s 2ms/step - loss: 0.5057 - accuracy: 0.7734 - val_loss: 0.5034 - val_accuracy: 0.7757\n",
            "Epoch 31/50\n",
            "4961/4961 [==============================] - 12s 2ms/step - loss: 0.5056 - accuracy: 0.7734 - val_loss: 0.5055 - val_accuracy: 0.7741\n",
            "Epoch 32/50\n",
            "4961/4961 [==============================] - 12s 2ms/step - loss: 0.5055 - accuracy: 0.7733 - val_loss: 0.5050 - val_accuracy: 0.7754\n",
            "Epoch 33/50\n",
            "4961/4961 [==============================] - 15s 3ms/step - loss: 0.5057 - accuracy: 0.7733 - val_loss: 0.5066 - val_accuracy: 0.7747\n",
            "Epoch 34/50\n",
            "4961/4961 [==============================] - 12s 2ms/step - loss: 0.5057 - accuracy: 0.7733 - val_loss: 0.5027 - val_accuracy: 0.7771\n",
            "Epoch 35/50\n",
            "4961/4961 [==============================] - 12s 2ms/step - loss: 0.5056 - accuracy: 0.7728 - val_loss: 0.5031 - val_accuracy: 0.7762\n",
            "Epoch 36/50\n",
            "4961/4961 [==============================] - 12s 2ms/step - loss: 0.5056 - accuracy: 0.7738 - val_loss: 0.5058 - val_accuracy: 0.7747\n",
            "Epoch 37/50\n",
            "4961/4961 [==============================] - 12s 2ms/step - loss: 0.5056 - accuracy: 0.7736 - val_loss: 0.5046 - val_accuracy: 0.7762\n",
            "Epoch 38/50\n",
            "4961/4961 [==============================] - 12s 2ms/step - loss: 0.5055 - accuracy: 0.7732 - val_loss: 0.5032 - val_accuracy: 0.7768\n",
            "Epoch 39/50\n",
            "4961/4961 [==============================] - 12s 2ms/step - loss: 0.5055 - accuracy: 0.7733 - val_loss: 0.5040 - val_accuracy: 0.7764\n",
            "Epoch 40/50\n",
            "4961/4961 [==============================] - 12s 2ms/step - loss: 0.5055 - accuracy: 0.7732 - val_loss: 0.5034 - val_accuracy: 0.7764\n",
            "Epoch 41/50\n",
            "4961/4961 [==============================] - 12s 3ms/step - loss: 0.5055 - accuracy: 0.7731 - val_loss: 0.5047 - val_accuracy: 0.7758\n",
            "Epoch 42/50\n",
            "4961/4961 [==============================] - 12s 2ms/step - loss: 0.5056 - accuracy: 0.7733 - val_loss: 0.5042 - val_accuracy: 0.7755\n",
            "Epoch 43/50\n",
            "4961/4961 [==============================] - 12s 2ms/step - loss: 0.5054 - accuracy: 0.7742 - val_loss: 0.5048 - val_accuracy: 0.7759\n",
            "Epoch 44/50\n",
            "4961/4961 [==============================] - 12s 2ms/step - loss: 0.5055 - accuracy: 0.7736 - val_loss: 0.5032 - val_accuracy: 0.7760\n",
            "Epoch 45/50\n",
            "4961/4961 [==============================] - 12s 2ms/step - loss: 0.5056 - accuracy: 0.7734 - val_loss: 0.5042 - val_accuracy: 0.7754\n",
            "Epoch 46/50\n",
            "4961/4961 [==============================] - 12s 2ms/step - loss: 0.5056 - accuracy: 0.7739 - val_loss: 0.5032 - val_accuracy: 0.7762\n",
            "Epoch 47/50\n",
            "4961/4961 [==============================] - 12s 2ms/step - loss: 0.5054 - accuracy: 0.7734 - val_loss: 0.5055 - val_accuracy: 0.7756\n",
            "Epoch 48/50\n",
            "4961/4961 [==============================] - 12s 2ms/step - loss: 0.5054 - accuracy: 0.7735 - val_loss: 0.5046 - val_accuracy: 0.7759\n",
            "Epoch 49/50\n",
            "4961/4961 [==============================] - 12s 2ms/step - loss: 0.5055 - accuracy: 0.7737 - val_loss: 0.5034 - val_accuracy: 0.7769\n",
            "Epoch 50/50\n",
            "4961/4961 [==============================] - 12s 3ms/step - loss: 0.5053 - accuracy: 0.7741 - val_loss: 0.5046 - val_accuracy: 0.7754\n"
          ]
        }
      ]
    },
    {
      "cell_type": "code",
      "source": [
        "print(\"training loss and training accuracy: \",model1.evaluate(X_train,Y_train))\n",
        "print(\"Testing loss and Testing accuracy: \",model1.evaluate(X_test,Y_test))"
      ],
      "metadata": {
        "colab": {
          "base_uri": "https://localhost:8080/"
        },
        "id": "KhOLQQhP1g9b",
        "outputId": "612dae68-2107-4d3e-b0cc-c07627092b9d"
      },
      "execution_count": null,
      "outputs": [
        {
          "output_type": "stream",
          "name": "stdout",
          "text": [
            "4961/4961 [==============================] - 10s 2ms/step - loss: 0.5060 - accuracy: 0.7728\n",
            "training loss and training accuracy:  [0.5059583187103271, 0.7727988362312317]\n",
            "2139/2139 [==============================] - 3s 2ms/step - loss: 0.5046 - accuracy: 0.7754\n",
            "Testing loss and Testing accuracy:  [0.5046349167823792, 0.7753616571426392]\n"
          ]
        }
      ]
    },
    {
      "cell_type": "code",
      "source": [
        "#now visualize the training and testing loss\n",
        "plt.plot(trained_model1.history[\"loss\"],label=\"Training loss\")\n",
        "plt.plot(trained_model1.history[\"val_loss\"],label=\"Testing loss\")\n",
        "plt.legend()\n",
        "plt.show()"
      ],
      "metadata": {
        "colab": {
          "base_uri": "https://localhost:8080/",
          "height": 269
        },
        "id": "tG-dPaB338Y7",
        "outputId": "662569f6-70be-4d1e-da66-329cd90a30e9"
      },
      "execution_count": null,
      "outputs": [
        {
          "output_type": "display_data",
          "data": {
            "text/plain": [
              "<Figure size 432x288 with 1 Axes>"
            ],
            "image/png": "[encoded data removed]"
          },
          "metadata": {
            "needs_background": "light"
          }
        }
      ]
    },
    {
      "cell_type": "code",
      "source": [
        "#now visualize the training and testing loss\n",
        "plt.plot(trained_model1.history[\"accuracy\"],label=\"Training Accuracy\")\n",
        "plt.plot(trained_model1.history[\"val_accuracy\"],label=\"Testing Accuracy\")\n",
        "plt.legend()\n",
        "plt.show()"
      ],
      "metadata": {
        "colab": {
          "base_uri": "https://localhost:8080/",
          "height": 265
        },
        "id": "jMKvM5m94dAo",
        "outputId": "08b001b2-efa0-48e9-b6b4-e16da802dc13"
      },
      "execution_count": null,
      "outputs": [
        {
          "output_type": "display_data",
          "data": {
            "text/plain": [
              "<Figure size 432x288 with 1 Axes>"
            ],
            "image/png": "[encoded data removed]"
          },
          "metadata": {
            "needs_background": "light"
          }
        }
      ]
    },
    {
      "cell_type": "code",
      "source": [
        "print(classification_report(Y_test,Y_pred))\n",
        "print(confusion_matrix(Y_test,Y_pred))"
      ],
      "metadata": {
        "colab": {
          "base_uri": "https://localhost:8080/"
        },
        "id": "XzEAEbN65Kot",
        "outputId": "a932f95e-4cd3-42eb-a9b9-6ac7add82ce1"
      },
      "execution_count": null,
      "outputs": [
        {
          "output_type": "stream",
          "name": "stdout",
          "text": [
            "              precision    recall  f1-score   support\n",
            "\n",
            "           0       0.79      0.80      0.80     34215\n",
            "           1       0.80      0.79      0.79     34215\n",
            "\n",
            "    accuracy                           0.79     68430\n",
            "   macro avg       0.79      0.79      0.79     68430\n",
            "weighted avg       0.79      0.79      0.79     68430\n",
            "\n",
            "[[27467  6748]\n",
            " [ 7349 26866]]\n"
          ]
        }
      ]
    },
    {
      "cell_type": "code",
      "source": [
        "#aacuracy of this model is 79% which good but not better\n"
      ],
      "metadata": {
        "id": "79f9Z5ZxFQTl"
      },
      "execution_count": null,
      "outputs": []
    }
  ]
}